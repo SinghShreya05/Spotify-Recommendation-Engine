{
 "cells": [
  {
   "cell_type": "markdown",
   "metadata": {
    "colab_type": "text",
    "id": "view-in-github"
   },
   "source": [
    "[View in Colaboratory](https://colab.research.google.com/github/ucalyptus/Spotify-Recommendation-Engine/blob/master/Spotify_Recommendation_System_.ipynb)"
   ]
  },
  {
   "cell_type": "code",
   "execution_count": 1,
   "metadata": {
    "colab": {
     "base_uri": "https://localhost:8080/",
     "height": 119
    },
    "colab_type": "code",
    "id": "LUBdOIn5irHS",
    "outputId": "cf3771a3-0820-470a-d19b-f19a56db8d23"
   },
   "outputs": [
    {
     "name": "stdout",
     "output_type": "stream",
     "text": [
      "Requirement already satisfied: spotipy in /usr/local/lib/python3.6/dist-packages (2.4.4)\n",
      "Requirement already satisfied: requests>=1.0 in /usr/local/lib/python3.6/dist-packages (from spotipy) (2.18.4)\n",
      "Requirement already satisfied: idna<2.7,>=2.5 in /usr/local/lib/python3.6/dist-packages (from requests>=1.0->spotipy) (2.6)\n",
      "Requirement already satisfied: chardet<3.1.0,>=3.0.2 in /usr/local/lib/python3.6/dist-packages (from requests>=1.0->spotipy) (3.0.4)\n",
      "Requirement already satisfied: urllib3<1.23,>=1.21.1 in /usr/local/lib/python3.6/dist-packages (from requests>=1.0->spotipy) (1.22)\n",
      "Requirement already satisfied: certifi>=2017.4.17 in /usr/local/lib/python3.6/dist-packages (from requests>=1.0->spotipy) (2018.8.24)\n"
     ]
    }
   ],
   "source": [
    "!pip install spotipy"
   ]
  },
  {
   "cell_type": "markdown",
   "metadata": {
    "colab_type": "text",
    "id": "Uh7PhpFWkcVg"
   },
   "source": [
    "Client ID ffbef2bcb4b84e80b3a0039a2906cb01\n",
    "\n",
    "Client Secret 6c57daa1247f4abe96f38635d38869a0\n",
    "\n",
    "Redirect URI https://developer.spotify.com/dashboard/applications/ffbef2bcb4b84e80b3a0039a2906cb01"
   ]
  },
  {
   "cell_type": "code",
   "execution_count": 0,
   "metadata": {
    "colab": {},
    "colab_type": "code",
    "id": "CQiyBuLziyEI"
   },
   "outputs": [],
   "source": [
    "import spotipy\n",
    "from spotipy.oauth2 import SpotifyClientCredentials\n",
    "import spotipy.util as util"
   ]
  },
  {
   "cell_type": "code",
   "execution_count": 0,
   "metadata": {
    "colab": {},
    "colab_type": "code",
    "id": "Xo3x51nrk48s"
   },
   "outputs": [],
   "source": [
    "cid = 'ffbef2bcb4b84e80b3a0039a2906cb01'\n",
    "secret = '6c57daa1247f4abe96f38635d38869a0'\n",
    "username = 'francocasadei'\n",
    "redirect_uri = 'https://developer.spotify.com/dashboard/applications/ffbef2bcb4b84e80b3a0039a2906cb01'\n"
   ]
  },
  {
   "cell_type": "code",
   "execution_count": 0,
   "metadata": {
    "colab": {},
    "colab_type": "code",
    "id": "6wqoMOuOlf52"
   },
   "outputs": [],
   "source": [
    "scope = 'user-library-read playlist-modify-public playlist-read-private'\n",
    "\n",
    "client_credentials_manager = SpotifyClientCredentials(client_id = cid, client_secret=secret)\n",
    "\n",
    "sp = spotipy.Spotify(client_credentials_manager= client_credentials_manager)\n",
    "\n",
    "token = util.prompt_for_user_token(username,scope,cid,secret,redirect_uri)\n",
    "\n",
    "if token:\n",
    "  sp = spotipy.Spotify(auth=token)\n",
    "  \n",
    "else:\n",
    "  print(\"Can't get token for\", username)"
   ]
  },
  {
   "cell_type": "code",
   "execution_count": 0,
   "metadata": {
    "colab": {},
    "colab_type": "code",
    "id": "WxaTn9mLmcqZ"
   },
   "outputs": [],
   "source": [
    "import pandas as pd\n",
    "\n",
    "#https://open.spotify.com/user/francocasadei/playlist/6aWL6tZgIycyz98WgigfsG\n",
    "sourcePlaylistID = '6aWL6tZgIycyz98WgigfsG'\n",
    "sourcePlaylist = sp.user_playlist(username,sourcePlaylistID);\n",
    "tracks = sourcePlaylist[\"tracks\"];\n",
    "songs = tracks[\"items\"];\n",
    "\n",
    "track_ids = []\n",
    "track_names = []\n",
    "\n",
    "\n",
    "for i in range(0, len(songs)):\n",
    "  if songs[i]['track']['id']!=None:\n",
    "    track_ids.append(songs[i]['track']['id'])\n",
    "    track_names.append(songs[i]['track']['name'])\n",
    "    \n",
    "features = []\n",
    "\n",
    "\n",
    "for i in range(0,len(track_ids)):\n",
    "  audio_features  = sp.audio_features(track_ids[i])\n",
    "  for track in audio_features:\n",
    "    features.append(track)\n",
    "    \n",
    "    \n",
    "playlist_df = pd.DataFrame(features,index = track_names)"
   ]
  },
  {
   "cell_type": "code",
   "execution_count": 0,
   "metadata": {
    "colab": {},
    "colab_type": "code",
    "id": "MooiGYAppQ91"
   },
   "outputs": [],
   "source": [
    "#francocasadei@yahoo.it:astrolabio"
   ]
  },
  {
   "cell_type": "code",
   "execution_count": 0,
   "metadata": {
    "colab": {},
    "colab_type": "code",
    "id": "mA3jsda2sk2n"
   },
   "outputs": [],
   "source": [
    "playlist_df = playlist_df[[\"id\", \"acousticness\", \"danceability\", \"duration_ms\", \"energy\", \"instrumentalness\",  \"key\", \"liveness\", \"loudness\", \"mode\", \"speechiness\", \"tempo\", \"valence\"]]"
   ]
  },
  {
   "cell_type": "code",
   "execution_count": 8,
   "metadata": {
    "colab": {
     "base_uri": "https://localhost:8080/",
     "height": 34
    },
    "colab_type": "code",
    "id": "oHA0fckEtZ9u",
    "outputId": "a54775ec-418f-4e34-ee12-065ee275c86d"
   },
   "outputs": [
    {
     "data": {
      "text/plain": [
       "(24, 13)"
      ]
     },
     "execution_count": 8,
     "metadata": {
      "tags": []
     },
     "output_type": "execute_result"
    }
   ],
   "source": [
    "playlist_df.shape"
   ]
  },
  {
   "cell_type": "code",
   "execution_count": 0,
   "metadata": {
    "colab": {},
    "colab_type": "code",
    "id": "cJBLzEg_twFM"
   },
   "outputs": [],
   "source": [
    "playlist_df['ratings']=[10, 9, 9, 10, 8, 6, 8, 4, 3, 5, 7, 5, 5, 8, 8,10,4,6,8,2,4,5,6,9]"
   ]
  },
  {
   "cell_type": "code",
   "execution_count": 10,
   "metadata": {
    "colab": {
     "base_uri": "https://localhost:8080/",
     "height": 1017
    },
    "colab_type": "code",
    "id": "ZO9-WVjnuR-F",
    "outputId": "12570c48-ebd2-4933-b4fc-05dd135b701b"
   },
   "outputs": [
    {
     "data": {
      "text/html": [
       "<div>\n",
       "<style scoped>\n",
       "    .dataframe tbody tr th:only-of-type {\n",
       "        vertical-align: middle;\n",
       "    }\n",
       "\n",
       "    .dataframe tbody tr th {\n",
       "        vertical-align: top;\n",
       "    }\n",
       "\n",
       "    .dataframe thead th {\n",
       "        text-align: right;\n",
       "    }\n",
       "</style>\n",
       "<table border=\"1\" class=\"dataframe\">\n",
       "  <thead>\n",
       "    <tr style=\"text-align: right;\">\n",
       "      <th></th>\n",
       "      <th>id</th>\n",
       "      <th>acousticness</th>\n",
       "      <th>danceability</th>\n",
       "      <th>duration_ms</th>\n",
       "      <th>energy</th>\n",
       "      <th>instrumentalness</th>\n",
       "      <th>key</th>\n",
       "      <th>liveness</th>\n",
       "      <th>loudness</th>\n",
       "      <th>mode</th>\n",
       "      <th>speechiness</th>\n",
       "      <th>tempo</th>\n",
       "      <th>valence</th>\n",
       "      <th>ratings</th>\n",
       "    </tr>\n",
       "  </thead>\n",
       "  <tbody>\n",
       "    <tr>\n",
       "      <th>Losers</th>\n",
       "      <td>1bAvtmTl0F9loyz9AwPwp7</td>\n",
       "      <td>0.03550</td>\n",
       "      <td>0.666</td>\n",
       "      <td>281147</td>\n",
       "      <td>0.485</td>\n",
       "      <td>0.000603</td>\n",
       "      <td>0</td>\n",
       "      <td>0.5040</td>\n",
       "      <td>-9.850</td>\n",
       "      <td>0</td>\n",
       "      <td>0.0527</td>\n",
       "      <td>91.009</td>\n",
       "      <td>0.2880</td>\n",
       "      <td>10</td>\n",
       "    </tr>\n",
       "    <tr>\n",
       "      <th>Tell Your Friends</th>\n",
       "      <td>1mhVXWduD8ReDwusfaHNwU</td>\n",
       "      <td>0.26500</td>\n",
       "      <td>0.565</td>\n",
       "      <td>334333</td>\n",
       "      <td>0.454</td>\n",
       "      <td>0.000000</td>\n",
       "      <td>1</td>\n",
       "      <td>0.1810</td>\n",
       "      <td>-11.091</td>\n",
       "      <td>0</td>\n",
       "      <td>0.0461</td>\n",
       "      <td>74.809</td>\n",
       "      <td>0.3120</td>\n",
       "      <td>9</td>\n",
       "    </tr>\n",
       "    <tr>\n",
       "      <th>Often</th>\n",
       "      <td>4PhsKqMdgMEUSstTDAmMpg</td>\n",
       "      <td>0.21800</td>\n",
       "      <td>0.569</td>\n",
       "      <td>249040</td>\n",
       "      <td>0.629</td>\n",
       "      <td>0.000000</td>\n",
       "      <td>7</td>\n",
       "      <td>0.1350</td>\n",
       "      <td>-9.837</td>\n",
       "      <td>0</td>\n",
       "      <td>0.0485</td>\n",
       "      <td>134.035</td>\n",
       "      <td>0.0726</td>\n",
       "      <td>9</td>\n",
       "    </tr>\n",
       "    <tr>\n",
       "      <th>The Hills</th>\n",
       "      <td>7fBv7CLKzipRk6EC6TWHOB</td>\n",
       "      <td>0.06710</td>\n",
       "      <td>0.580</td>\n",
       "      <td>242253</td>\n",
       "      <td>0.565</td>\n",
       "      <td>0.000000</td>\n",
       "      <td>0</td>\n",
       "      <td>0.1350</td>\n",
       "      <td>-7.065</td>\n",
       "      <td>0</td>\n",
       "      <td>0.0488</td>\n",
       "      <td>112.986</td>\n",
       "      <td>0.1380</td>\n",
       "      <td>10</td>\n",
       "    </tr>\n",
       "    <tr>\n",
       "      <th>Acquainted</th>\n",
       "      <td>7uJH0YdSZL6psjxI6Xy08b</td>\n",
       "      <td>0.48400</td>\n",
       "      <td>0.372</td>\n",
       "      <td>348853</td>\n",
       "      <td>0.477</td>\n",
       "      <td>0.000000</td>\n",
       "      <td>7</td>\n",
       "      <td>0.0844</td>\n",
       "      <td>-9.838</td>\n",
       "      <td>0</td>\n",
       "      <td>0.0497</td>\n",
       "      <td>101.097</td>\n",
       "      <td>0.2540</td>\n",
       "      <td>8</td>\n",
       "    </tr>\n",
       "    <tr>\n",
       "      <th>Can't Feel My Face</th>\n",
       "      <td>22VdIZQfgXJea34mQxlt81</td>\n",
       "      <td>0.11200</td>\n",
       "      <td>0.705</td>\n",
       "      <td>213520</td>\n",
       "      <td>0.769</td>\n",
       "      <td>0.000000</td>\n",
       "      <td>9</td>\n",
       "      <td>0.1050</td>\n",
       "      <td>-5.526</td>\n",
       "      <td>0</td>\n",
       "      <td>0.0426</td>\n",
       "      <td>107.939</td>\n",
       "      <td>0.5900</td>\n",
       "      <td>6</td>\n",
       "    </tr>\n",
       "    <tr>\n",
       "      <th>Shameless</th>\n",
       "      <td>6C6fHTuFUxVtJpBOOaMvJr</td>\n",
       "      <td>0.14600</td>\n",
       "      <td>0.603</td>\n",
       "      <td>253507</td>\n",
       "      <td>0.562</td>\n",
       "      <td>0.000000</td>\n",
       "      <td>6</td>\n",
       "      <td>0.1090</td>\n",
       "      <td>-8.311</td>\n",
       "      <td>1</td>\n",
       "      <td>0.0267</td>\n",
       "      <td>100.038</td>\n",
       "      <td>0.2440</td>\n",
       "      <td>8</td>\n",
       "    </tr>\n",
       "    <tr>\n",
       "      <th>Earned It (Fifty Shades Of Grey)</th>\n",
       "      <td>4frLb7nWtsz2ymBE6k2GRP</td>\n",
       "      <td>0.40800</td>\n",
       "      <td>0.647</td>\n",
       "      <td>277680</td>\n",
       "      <td>0.291</td>\n",
       "      <td>0.000000</td>\n",
       "      <td>2</td>\n",
       "      <td>0.0771</td>\n",
       "      <td>-8.275</td>\n",
       "      <td>0</td>\n",
       "      <td>0.0363</td>\n",
       "      <td>119.839</td>\n",
       "      <td>0.4000</td>\n",
       "      <td>4</td>\n",
       "    </tr>\n",
       "    <tr>\n",
       "      <th>In The Night</th>\n",
       "      <td>25KybV9BOUlvcnv7nN3Pyo</td>\n",
       "      <td>0.07960</td>\n",
       "      <td>0.505</td>\n",
       "      <td>235653</td>\n",
       "      <td>0.680</td>\n",
       "      <td>0.000000</td>\n",
       "      <td>7</td>\n",
       "      <td>0.0465</td>\n",
       "      <td>-4.990</td>\n",
       "      <td>1</td>\n",
       "      <td>0.0713</td>\n",
       "      <td>168.021</td>\n",
       "      <td>0.5390</td>\n",
       "      <td>3</td>\n",
       "    </tr>\n",
       "    <tr>\n",
       "      <th>As You Are</th>\n",
       "      <td>3H3qBumaYj67PT3aMEBvAP</td>\n",
       "      <td>0.13100</td>\n",
       "      <td>0.371</td>\n",
       "      <td>340493</td>\n",
       "      <td>0.329</td>\n",
       "      <td>0.006250</td>\n",
       "      <td>0</td>\n",
       "      <td>0.2790</td>\n",
       "      <td>-9.667</td>\n",
       "      <td>0</td>\n",
       "      <td>0.0574</td>\n",
       "      <td>173.661</td>\n",
       "      <td>0.0539</td>\n",
       "      <td>5</td>\n",
       "    </tr>\n",
       "    <tr>\n",
       "      <th>Dark Times</th>\n",
       "      <td>6J7PIkhtHwmFjPLq0SyuPj</td>\n",
       "      <td>0.11400</td>\n",
       "      <td>0.501</td>\n",
       "      <td>260640</td>\n",
       "      <td>0.403</td>\n",
       "      <td>0.000011</td>\n",
       "      <td>9</td>\n",
       "      <td>0.1240</td>\n",
       "      <td>-9.607</td>\n",
       "      <td>0</td>\n",
       "      <td>0.0752</td>\n",
       "      <td>132.608</td>\n",
       "      <td>0.2700</td>\n",
       "      <td>7</td>\n",
       "    </tr>\n",
       "    <tr>\n",
       "      <th>Prisoner</th>\n",
       "      <td>1gZADNt16Oh23jWyMYRk4p</td>\n",
       "      <td>0.44100</td>\n",
       "      <td>0.550</td>\n",
       "      <td>274960</td>\n",
       "      <td>0.404</td>\n",
       "      <td>0.000220</td>\n",
       "      <td>0</td>\n",
       "      <td>0.1100</td>\n",
       "      <td>-12.755</td>\n",
       "      <td>0</td>\n",
       "      <td>0.0398</td>\n",
       "      <td>135.016</td>\n",
       "      <td>0.3290</td>\n",
       "      <td>5</td>\n",
       "    </tr>\n",
       "    <tr>\n",
       "      <th>Angel</th>\n",
       "      <td>0wzPHTgOtFIDhk2rD3Au4x</td>\n",
       "      <td>0.10500</td>\n",
       "      <td>0.626</td>\n",
       "      <td>377347</td>\n",
       "      <td>0.583</td>\n",
       "      <td>0.000000</td>\n",
       "      <td>10</td>\n",
       "      <td>0.1150</td>\n",
       "      <td>-7.574</td>\n",
       "      <td>0</td>\n",
       "      <td>0.0435</td>\n",
       "      <td>127.956</td>\n",
       "      <td>0.3350</td>\n",
       "      <td>5</td>\n",
       "    </tr>\n",
       "    <tr>\n",
       "      <th>Switch</th>\n",
       "      <td>29ZZAShKhwRUuKULSNtxX6</td>\n",
       "      <td>0.04270</td>\n",
       "      <td>0.664</td>\n",
       "      <td>207071</td>\n",
       "      <td>0.664</td>\n",
       "      <td>0.004890</td>\n",
       "      <td>7</td>\n",
       "      <td>0.1040</td>\n",
       "      <td>-6.104</td>\n",
       "      <td>1</td>\n",
       "      <td>0.0393</td>\n",
       "      <td>176.678</td>\n",
       "      <td>0.1900</td>\n",
       "      <td>8</td>\n",
       "    </tr>\n",
       "    <tr>\n",
       "      <th>OTW</th>\n",
       "      <td>6Hgh47WXVKtXN5zGOu0hjI</td>\n",
       "      <td>0.18300</td>\n",
       "      <td>0.652</td>\n",
       "      <td>263014</td>\n",
       "      <td>0.678</td>\n",
       "      <td>0.000033</td>\n",
       "      <td>2</td>\n",
       "      <td>0.1060</td>\n",
       "      <td>-6.183</td>\n",
       "      <td>1</td>\n",
       "      <td>0.0541</td>\n",
       "      <td>72.989</td>\n",
       "      <td>0.2800</td>\n",
       "      <td>8</td>\n",
       "    </tr>\n",
       "    <tr>\n",
       "      <th>Real Life</th>\n",
       "      <td>03j354P848KtNU2FVSwkDG</td>\n",
       "      <td>0.43800</td>\n",
       "      <td>0.581</td>\n",
       "      <td>223373</td>\n",
       "      <td>0.653</td>\n",
       "      <td>0.000000</td>\n",
       "      <td>11</td>\n",
       "      <td>0.3510</td>\n",
       "      <td>-5.040</td>\n",
       "      <td>0</td>\n",
       "      <td>0.0506</td>\n",
       "      <td>90.726</td>\n",
       "      <td>0.3460</td>\n",
       "      <td>10</td>\n",
       "    </tr>\n",
       "    <tr>\n",
       "      <th>Pretty</th>\n",
       "      <td>0ei3uNcwJOiUocuks1vWcb</td>\n",
       "      <td>0.03490</td>\n",
       "      <td>0.581</td>\n",
       "      <td>375400</td>\n",
       "      <td>0.691</td>\n",
       "      <td>0.000057</td>\n",
       "      <td>11</td>\n",
       "      <td>0.3290</td>\n",
       "      <td>-6.832</td>\n",
       "      <td>0</td>\n",
       "      <td>0.0382</td>\n",
       "      <td>125.979</td>\n",
       "      <td>0.3310</td>\n",
       "      <td>4</td>\n",
       "    </tr>\n",
       "    <tr>\n",
       "      <th>Hotline Bling</th>\n",
       "      <td>0wwPcA6wtMf6HUMpIRdeP7</td>\n",
       "      <td>0.00302</td>\n",
       "      <td>0.903</td>\n",
       "      <td>267067</td>\n",
       "      <td>0.621</td>\n",
       "      <td>0.000186</td>\n",
       "      <td>2</td>\n",
       "      <td>0.0504</td>\n",
       "      <td>-8.132</td>\n",
       "      <td>1</td>\n",
       "      <td>0.0578</td>\n",
       "      <td>134.969</td>\n",
       "      <td>0.5530</td>\n",
       "      <td>6</td>\n",
       "    </tr>\n",
       "    <tr>\n",
       "      <th>The Morning</th>\n",
       "      <td>6u0dQik0aif7FQlrhycG1L</td>\n",
       "      <td>0.31700</td>\n",
       "      <td>0.652</td>\n",
       "      <td>312427</td>\n",
       "      <td>0.549</td>\n",
       "      <td>0.000000</td>\n",
       "      <td>6</td>\n",
       "      <td>0.1040</td>\n",
       "      <td>-7.555</td>\n",
       "      <td>0</td>\n",
       "      <td>0.0390</td>\n",
       "      <td>120.073</td>\n",
       "      <td>0.1860</td>\n",
       "      <td>8</td>\n",
       "    </tr>\n",
       "    <tr>\n",
       "      <th>High For This</th>\n",
       "      <td>5fohLPNqO6TqwrZ7BoUWUT</td>\n",
       "      <td>0.74400</td>\n",
       "      <td>0.465</td>\n",
       "      <td>247227</td>\n",
       "      <td>0.403</td>\n",
       "      <td>0.000667</td>\n",
       "      <td>11</td>\n",
       "      <td>0.0777</td>\n",
       "      <td>-8.895</td>\n",
       "      <td>0</td>\n",
       "      <td>0.0755</td>\n",
       "      <td>74.950</td>\n",
       "      <td>0.0687</td>\n",
       "      <td>2</td>\n",
       "    </tr>\n",
       "    <tr>\n",
       "      <th>Wicked Games</th>\n",
       "      <td>6VwBbL8CzPiC4QV66ay7oR</td>\n",
       "      <td>0.00959</td>\n",
       "      <td>0.658</td>\n",
       "      <td>323747</td>\n",
       "      <td>0.591</td>\n",
       "      <td>0.000005</td>\n",
       "      <td>9</td>\n",
       "      <td>0.3250</td>\n",
       "      <td>-5.197</td>\n",
       "      <td>1</td>\n",
       "      <td>0.0309</td>\n",
       "      <td>114.078</td>\n",
       "      <td>0.3260</td>\n",
       "      <td>4</td>\n",
       "    </tr>\n",
       "    <tr>\n",
       "      <th>Kiss Land</th>\n",
       "      <td>5idmfDT06TjCQ1SPDsa5qh</td>\n",
       "      <td>0.04910</td>\n",
       "      <td>0.326</td>\n",
       "      <td>455333</td>\n",
       "      <td>0.862</td>\n",
       "      <td>0.000000</td>\n",
       "      <td>11</td>\n",
       "      <td>0.0654</td>\n",
       "      <td>-6.671</td>\n",
       "      <td>0</td>\n",
       "      <td>0.1190</td>\n",
       "      <td>122.037</td>\n",
       "      <td>0.4000</td>\n",
       "      <td>5</td>\n",
       "    </tr>\n",
       "    <tr>\n",
       "      <th>Desire - Gryffin Remix</th>\n",
       "      <td>6JzCO4ZzxAXhY86vTcqM1Q</td>\n",
       "      <td>0.06060</td>\n",
       "      <td>0.543</td>\n",
       "      <td>268840</td>\n",
       "      <td>0.876</td>\n",
       "      <td>0.000000</td>\n",
       "      <td>10</td>\n",
       "      <td>0.1570</td>\n",
       "      <td>-5.069</td>\n",
       "      <td>0</td>\n",
       "      <td>0.0512</td>\n",
       "      <td>122.058</td>\n",
       "      <td>0.4150</td>\n",
       "      <td>6</td>\n",
       "    </tr>\n",
       "    <tr>\n",
       "      <th>King</th>\n",
       "      <td>5Z3zRrMIJk7CVpfcLsM9wD</td>\n",
       "      <td>0.05940</td>\n",
       "      <td>0.560</td>\n",
       "      <td>215360</td>\n",
       "      <td>0.857</td>\n",
       "      <td>0.000000</td>\n",
       "      <td>4</td>\n",
       "      <td>0.3810</td>\n",
       "      <td>-4.145</td>\n",
       "      <td>0</td>\n",
       "      <td>0.0384</td>\n",
       "      <td>119.975</td>\n",
       "      <td>0.4320</td>\n",
       "      <td>9</td>\n",
       "    </tr>\n",
       "  </tbody>\n",
       "</table>\n",
       "</div>"
      ],
      "text/plain": [
       "                                                      id  acousticness  \\\n",
       "Losers                            1bAvtmTl0F9loyz9AwPwp7       0.03550   \n",
       "Tell Your Friends                 1mhVXWduD8ReDwusfaHNwU       0.26500   \n",
       "Often                             4PhsKqMdgMEUSstTDAmMpg       0.21800   \n",
       "The Hills                         7fBv7CLKzipRk6EC6TWHOB       0.06710   \n",
       "Acquainted                        7uJH0YdSZL6psjxI6Xy08b       0.48400   \n",
       "Can't Feel My Face                22VdIZQfgXJea34mQxlt81       0.11200   \n",
       "Shameless                         6C6fHTuFUxVtJpBOOaMvJr       0.14600   \n",
       "Earned It (Fifty Shades Of Grey)  4frLb7nWtsz2ymBE6k2GRP       0.40800   \n",
       "In The Night                      25KybV9BOUlvcnv7nN3Pyo       0.07960   \n",
       "As You Are                        3H3qBumaYj67PT3aMEBvAP       0.13100   \n",
       "Dark Times                        6J7PIkhtHwmFjPLq0SyuPj       0.11400   \n",
       "Prisoner                          1gZADNt16Oh23jWyMYRk4p       0.44100   \n",
       "Angel                             0wzPHTgOtFIDhk2rD3Au4x       0.10500   \n",
       "Switch                            29ZZAShKhwRUuKULSNtxX6       0.04270   \n",
       "OTW                               6Hgh47WXVKtXN5zGOu0hjI       0.18300   \n",
       "Real Life                         03j354P848KtNU2FVSwkDG       0.43800   \n",
       "Pretty                            0ei3uNcwJOiUocuks1vWcb       0.03490   \n",
       "Hotline Bling                     0wwPcA6wtMf6HUMpIRdeP7       0.00302   \n",
       "The Morning                       6u0dQik0aif7FQlrhycG1L       0.31700   \n",
       "High For This                     5fohLPNqO6TqwrZ7BoUWUT       0.74400   \n",
       "Wicked Games                      6VwBbL8CzPiC4QV66ay7oR       0.00959   \n",
       "Kiss Land                         5idmfDT06TjCQ1SPDsa5qh       0.04910   \n",
       "Desire - Gryffin Remix            6JzCO4ZzxAXhY86vTcqM1Q       0.06060   \n",
       "King                              5Z3zRrMIJk7CVpfcLsM9wD       0.05940   \n",
       "\n",
       "                                  danceability  duration_ms  energy  \\\n",
       "Losers                                   0.666       281147   0.485   \n",
       "Tell Your Friends                        0.565       334333   0.454   \n",
       "Often                                    0.569       249040   0.629   \n",
       "The Hills                                0.580       242253   0.565   \n",
       "Acquainted                               0.372       348853   0.477   \n",
       "Can't Feel My Face                       0.705       213520   0.769   \n",
       "Shameless                                0.603       253507   0.562   \n",
       "Earned It (Fifty Shades Of Grey)         0.647       277680   0.291   \n",
       "In The Night                             0.505       235653   0.680   \n",
       "As You Are                               0.371       340493   0.329   \n",
       "Dark Times                               0.501       260640   0.403   \n",
       "Prisoner                                 0.550       274960   0.404   \n",
       "Angel                                    0.626       377347   0.583   \n",
       "Switch                                   0.664       207071   0.664   \n",
       "OTW                                      0.652       263014   0.678   \n",
       "Real Life                                0.581       223373   0.653   \n",
       "Pretty                                   0.581       375400   0.691   \n",
       "Hotline Bling                            0.903       267067   0.621   \n",
       "The Morning                              0.652       312427   0.549   \n",
       "High For This                            0.465       247227   0.403   \n",
       "Wicked Games                             0.658       323747   0.591   \n",
       "Kiss Land                                0.326       455333   0.862   \n",
       "Desire - Gryffin Remix                   0.543       268840   0.876   \n",
       "King                                     0.560       215360   0.857   \n",
       "\n",
       "                                  instrumentalness  key  liveness  loudness  \\\n",
       "Losers                                    0.000603    0    0.5040    -9.850   \n",
       "Tell Your Friends                         0.000000    1    0.1810   -11.091   \n",
       "Often                                     0.000000    7    0.1350    -9.837   \n",
       "The Hills                                 0.000000    0    0.1350    -7.065   \n",
       "Acquainted                                0.000000    7    0.0844    -9.838   \n",
       "Can't Feel My Face                        0.000000    9    0.1050    -5.526   \n",
       "Shameless                                 0.000000    6    0.1090    -8.311   \n",
       "Earned It (Fifty Shades Of Grey)          0.000000    2    0.0771    -8.275   \n",
       "In The Night                              0.000000    7    0.0465    -4.990   \n",
       "As You Are                                0.006250    0    0.2790    -9.667   \n",
       "Dark Times                                0.000011    9    0.1240    -9.607   \n",
       "Prisoner                                  0.000220    0    0.1100   -12.755   \n",
       "Angel                                     0.000000   10    0.1150    -7.574   \n",
       "Switch                                    0.004890    7    0.1040    -6.104   \n",
       "OTW                                       0.000033    2    0.1060    -6.183   \n",
       "Real Life                                 0.000000   11    0.3510    -5.040   \n",
       "Pretty                                    0.000057   11    0.3290    -6.832   \n",
       "Hotline Bling                             0.000186    2    0.0504    -8.132   \n",
       "The Morning                               0.000000    6    0.1040    -7.555   \n",
       "High For This                             0.000667   11    0.0777    -8.895   \n",
       "Wicked Games                              0.000005    9    0.3250    -5.197   \n",
       "Kiss Land                                 0.000000   11    0.0654    -6.671   \n",
       "Desire - Gryffin Remix                    0.000000   10    0.1570    -5.069   \n",
       "King                                      0.000000    4    0.3810    -4.145   \n",
       "\n",
       "                                  mode  speechiness    tempo  valence  ratings  \n",
       "Losers                               0       0.0527   91.009   0.2880       10  \n",
       "Tell Your Friends                    0       0.0461   74.809   0.3120        9  \n",
       "Often                                0       0.0485  134.035   0.0726        9  \n",
       "The Hills                            0       0.0488  112.986   0.1380       10  \n",
       "Acquainted                           0       0.0497  101.097   0.2540        8  \n",
       "Can't Feel My Face                   0       0.0426  107.939   0.5900        6  \n",
       "Shameless                            1       0.0267  100.038   0.2440        8  \n",
       "Earned It (Fifty Shades Of Grey)     0       0.0363  119.839   0.4000        4  \n",
       "In The Night                         1       0.0713  168.021   0.5390        3  \n",
       "As You Are                           0       0.0574  173.661   0.0539        5  \n",
       "Dark Times                           0       0.0752  132.608   0.2700        7  \n",
       "Prisoner                             0       0.0398  135.016   0.3290        5  \n",
       "Angel                                0       0.0435  127.956   0.3350        5  \n",
       "Switch                               1       0.0393  176.678   0.1900        8  \n",
       "OTW                                  1       0.0541   72.989   0.2800        8  \n",
       "Real Life                            0       0.0506   90.726   0.3460       10  \n",
       "Pretty                               0       0.0382  125.979   0.3310        4  \n",
       "Hotline Bling                        1       0.0578  134.969   0.5530        6  \n",
       "The Morning                          0       0.0390  120.073   0.1860        8  \n",
       "High For This                        0       0.0755   74.950   0.0687        2  \n",
       "Wicked Games                         1       0.0309  114.078   0.3260        4  \n",
       "Kiss Land                            0       0.1190  122.037   0.4000        5  \n",
       "Desire - Gryffin Remix               0       0.0512  122.058   0.4150        6  \n",
       "King                                 0       0.0384  119.975   0.4320        9  "
      ]
     },
     "execution_count": 10,
     "metadata": {
      "tags": []
     },
     "output_type": "execute_result"
    }
   ],
   "source": [
    "playlist_df"
   ]
  },
  {
   "cell_type": "code",
   "execution_count": 0,
   "metadata": {
    "colab": {},
    "colab_type": "code",
    "id": "lQ-PbjSzuUrD"
   },
   "outputs": [],
   "source": [
    "X_train = playlist_df.drop(['id', 'ratings'], axis=1)\n",
    "y_train = playlist_df['ratings']"
   ]
  },
  {
   "cell_type": "code",
   "execution_count": 12,
   "metadata": {
    "colab": {
     "base_uri": "https://localhost:8080/",
     "height": 442
    },
    "colab_type": "code",
    "id": "OG_UdNebud6H",
    "outputId": "6b16b6c9-2860-48e1-c082-7d93bb5154b1"
   },
   "outputs": [
    {
     "data": {
      "image/png": "[encoded data removed]",
      "text/plain": [
       "<matplotlib.figure.Figure at 0x7fb184fd3710>"
      ]
     },
     "metadata": {
      "image/png": {
       "height": 425,
       "width": 613
      },
      "tags": []
     },
     "output_type": "display_data"
    }
   ],
   "source": [
    "import numpy as np\n",
    "from sklearn import decomposition\n",
    "from sklearn.preprocessing import StandardScaler\n",
    "import matplotlib.pyplot as plt\n",
    "import seaborn as sns; sns.set(style='white')\n",
    "%matplotlib inline\n",
    "%config InlineBackend.figure_format = 'retina'\n",
    "\n",
    "X_scaled = StandardScaler().fit_transform(X_train)\n",
    "\n",
    "pca = decomposition.PCA().fit(X_scaled)\n",
    "\n",
    "\n",
    "plt.figure(figsize=(10,7))\n",
    "plt.plot(np.cumsum(pca.explained_variance_ratio_),color='k',lw=2)\n",
    "plt.xlabel('Number of components')\n",
    "plt.ylabel('Total explained variance')\n",
    "plt.xlim(0,12)\n",
    "plt.yticks(np.arange(0,1.1,0.1))\n",
    "plt.axvline(8,c='b')\n",
    "plt.axhline(0.95,c='r')\n",
    "plt.show();"
   ]
  },
  {
   "cell_type": "code",
   "execution_count": 0,
   "metadata": {
    "colab": {},
    "colab_type": "code",
    "id": "Te0mkPNLv8O7"
   },
   "outputs": [],
   "source": [
    "# Fit your dataset to the optimal pca\n",
    "pca = decomposition.PCA(n_components=8)\n",
    "X_pca = pca.fit_transform(X_scaled)"
   ]
  },
  {
   "cell_type": "code",
   "execution_count": 14,
   "metadata": {
    "colab": {
     "base_uri": "https://localhost:8080/",
     "height": 34
    },
    "colab_type": "code",
    "id": "Scla3DOowqsA",
    "outputId": "7a54aa1d-aa2b-45eb-9f46-867261bf7ba4"
   },
   "outputs": [
    {
     "data": {
      "text/plain": [
       "(24, 90)"
      ]
     },
     "execution_count": 14,
     "metadata": {
      "tags": []
     },
     "output_type": "execute_result"
    }
   ],
   "source": [
    "from sklearn.feature_extraction.text import TfidfVectorizer\n",
    "v = TfidfVectorizer(sublinear_tf = True, ngram_range=(1,6),\n",
    "                   max_features=10000)\n",
    "X_names_sparse=v.fit_transform(track_names)\n",
    "X_names_sparse.shape"
   ]
  },
  {
   "cell_type": "code",
   "execution_count": 0,
   "metadata": {
    "colab": {},
    "colab_type": "code",
    "id": "xX3LjfChxDWn"
   },
   "outputs": [],
   "source": [
    "from scipy.sparse import csr_matrix, hstack\n",
    "\n",
    "X_train_last = csr_matrix(hstack([X_pca, X_names_sparse]))"
   ]
  },
  {
   "cell_type": "code",
   "execution_count": 0,
   "metadata": {
    "colab": {},
    "colab_type": "code",
    "id": "yb5E1q6UxKFx"
   },
   "outputs": [],
   "source": [
    "from sklearn.model_selection import StratifiedKFold, GridSearchCV\n",
    "\n",
    "skf = StratifiedKFold(n_splits=2,shuffle=True,random_state=42)"
   ]
  },
  {
   "cell_type": "code",
   "execution_count": 17,
   "metadata": {
    "colab": {
     "base_uri": "https://localhost:8080/",
     "height": 734
    },
    "colab_type": "code",
    "id": "Pej5Ou65Ca4I",
    "outputId": "63acc604-8638-4492-a418-28e9b74fe1fd"
   },
   "outputs": [
    {
     "name": "stdout",
     "output_type": "stream",
     "text": [
      "Fitting 2 folds for each of 9 candidates, totalling 18 fits\n"
     ]
    },
    {
     "name": "stderr",
     "output_type": "stream",
     "text": [
      "/usr/local/lib/python3.6/dist-packages/sklearn/model_selection/_split.py:605: Warning: The least populated class in y has only 1 members, which is too few. The minimum number of members in any class cannot be less than n_splits=2.\n",
      "  % (min_groups, self.n_splits)), Warning)\n",
      "/usr/local/lib/python3.6/dist-packages/sklearn/externals/joblib/parallel.py:547: UserWarning: Multiprocessing-backed parallel loops cannot be nested, setting n_jobs=1\n",
      "  **self._backend_args)\n",
      "/usr/local/lib/python3.6/dist-packages/sklearn/externals/joblib/parallel.py:547: UserWarning: Multiprocessing-backed parallel loops cannot be nested, setting n_jobs=1\n",
      "  **self._backend_args)\n",
      "/usr/local/lib/python3.6/dist-packages/sklearn/externals/joblib/parallel.py:547: UserWarning: Multiprocessing-backed parallel loops cannot be nested, setting n_jobs=1\n",
      "  **self._backend_args)\n",
      "/usr/local/lib/python3.6/dist-packages/sklearn/externals/joblib/parallel.py:547: UserWarning: Multiprocessing-backed parallel loops cannot be nested, setting n_jobs=1\n",
      "  **self._backend_args)\n",
      "/usr/local/lib/python3.6/dist-packages/sklearn/externals/joblib/parallel.py:547: UserWarning: Multiprocessing-backed parallel loops cannot be nested, setting n_jobs=1\n",
      "  **self._backend_args)\n",
      "/usr/local/lib/python3.6/dist-packages/sklearn/externals/joblib/parallel.py:547: UserWarning: Multiprocessing-backed parallel loops cannot be nested, setting n_jobs=1\n",
      "  **self._backend_args)\n",
      "/usr/local/lib/python3.6/dist-packages/sklearn/externals/joblib/parallel.py:547: UserWarning: Multiprocessing-backed parallel loops cannot be nested, setting n_jobs=1\n",
      "  **self._backend_args)\n",
      "/usr/local/lib/python3.6/dist-packages/sklearn/externals/joblib/parallel.py:547: UserWarning: Multiprocessing-backed parallel loops cannot be nested, setting n_jobs=1\n",
      "  **self._backend_args)\n",
      "/usr/local/lib/python3.6/dist-packages/sklearn/externals/joblib/parallel.py:547: UserWarning: Multiprocessing-backed parallel loops cannot be nested, setting n_jobs=1\n",
      "  **self._backend_args)\n",
      "/usr/local/lib/python3.6/dist-packages/sklearn/externals/joblib/parallel.py:547: UserWarning: Multiprocessing-backed parallel loops cannot be nested, setting n_jobs=1\n",
      "  **self._backend_args)\n",
      "/usr/local/lib/python3.6/dist-packages/sklearn/externals/joblib/parallel.py:547: UserWarning: Multiprocessing-backed parallel loops cannot be nested, setting n_jobs=1\n",
      "  **self._backend_args)\n",
      "/usr/local/lib/python3.6/dist-packages/sklearn/externals/joblib/parallel.py:547: UserWarning: Multiprocessing-backed parallel loops cannot be nested, setting n_jobs=1\n",
      "  **self._backend_args)\n",
      "/usr/local/lib/python3.6/dist-packages/sklearn/externals/joblib/parallel.py:547: UserWarning: Multiprocessing-backed parallel loops cannot be nested, setting n_jobs=1\n",
      "  **self._backend_args)\n",
      "/usr/local/lib/python3.6/dist-packages/sklearn/externals/joblib/parallel.py:547: UserWarning: Multiprocessing-backed parallel loops cannot be nested, setting n_jobs=1\n",
      "  **self._backend_args)\n",
      "/usr/local/lib/python3.6/dist-packages/sklearn/externals/joblib/parallel.py:547: UserWarning: Multiprocessing-backed parallel loops cannot be nested, setting n_jobs=1\n",
      "  **self._backend_args)\n",
      "/usr/local/lib/python3.6/dist-packages/sklearn/externals/joblib/parallel.py:547: UserWarning: Multiprocessing-backed parallel loops cannot be nested, setting n_jobs=1\n",
      "  **self._backend_args)\n",
      "/usr/local/lib/python3.6/dist-packages/sklearn/externals/joblib/parallel.py:547: UserWarning: Multiprocessing-backed parallel loops cannot be nested, setting n_jobs=1\n",
      "  **self._backend_args)\n",
      "/usr/local/lib/python3.6/dist-packages/sklearn/externals/joblib/parallel.py:547: UserWarning: Multiprocessing-backed parallel loops cannot be nested, setting n_jobs=1\n",
      "  **self._backend_args)\n",
      "[Parallel(n_jobs=-1)]: Done  18 out of  18 | elapsed:    0.2s finished\n"
     ]
    },
    {
     "data": {
      "text/plain": [
       "({'n_neighbors': 1}, 0.25)"
      ]
     },
     "execution_count": 17,
     "metadata": {
      "tags": []
     },
     "output_type": "execute_result"
    }
   ],
   "source": [
    "from sklearn.neighbors import KNeighborsClassifier\n",
    "\n",
    "knn_params = {'n_neighbors':range(1,10)}\n",
    "knn = KNeighborsClassifier(n_jobs=-1)\n",
    "\n",
    "knn_grid= GridSearchCV(knn,knn_params,cv=skf,n_jobs =-1,verbose=True)\n",
    "knn_grid.fit(X_train_last,y_train)\n",
    "knn_grid.best_params_, knn_grid.best_score_"
   ]
  },
  {
   "cell_type": "code",
   "execution_count": null,
   "metadata": {},
   "outputs": [],
   "source": [
    "# PCA+SVM\n",
    "sc = StandardScaler()   \n",
    "X_train = sc.fit_transform(X_train) \n",
    "from sklearn.decomposition import PCA \n",
    "pca = PCA(n_components = 7) \n",
    "X_train = pca.fit_transform(X_train) \n",
    "from sklearn import svm\n",
    "base_estimator = svm()\n",
    "param_grid = {'C': [0.1, 1, 10, 100, 1000],  \n",
    "              'gamma': [1, 0.1, 0.01, 0.001, 0.0001], \n",
    "              'kernel': ['rbf']}  \n",
    "svm_grid = GridSearchCV(base_estimator, param_grid, refit = True, verbose = 3) \n",
    "svm_grid.fit(X_train, y_train) \n",
    "svm_grid.best_estimator_ , svm_grid.best_score_"
   ]
  },
  {
   "cell_type": "code",
   "execution_count": 18,
   "metadata": {
    "colab": {
     "base_uri": "https://localhost:8080/",
     "height": 241
    },
    "colab_type": "code",
    "id": "mYx2CCdtDO03",
    "outputId": "87296fcb-8388-4238-c543-32f046fb1d10"
   },
   "outputs": [
    {
     "name": "stdout",
     "output_type": "stream",
     "text": [
      "Fitting 2 folds for each of 48 candidates, totalling 96 fits\n"
     ]
    },
    {
     "name": "stderr",
     "output_type": "stream",
     "text": [
      "/usr/local/lib/python3.6/dist-packages/sklearn/model_selection/_split.py:605: Warning: The least populated class in y has only 1 members, which is too few. The minimum number of members in any class cannot be less than n_splits=2.\n",
      "  % (min_groups, self.n_splits)), Warning)\n",
      "[Parallel(n_jobs=-1)]: Done  46 tasks      | elapsed:   11.0s\n",
      "[Parallel(n_jobs=-1)]: Done  96 out of  96 | elapsed:   22.7s finished\n"
     ]
    },
    {
     "data": {
      "text/plain": [
       "(RandomForestClassifier(bootstrap=True, class_weight=None, criterion='gini',\n",
       "             max_depth=8, max_features=10, max_leaf_nodes=None,\n",
       "             min_impurity_decrease=0.0, min_impurity_split=None,\n",
       "             min_samples_leaf=1, min_samples_split=2,\n",
       "             min_weight_fraction_leaf=0.0, n_estimators=100, n_jobs=-1,\n",
       "             oob_score=True, random_state=42, verbose=0, warm_start=False),\n",
       " 0.375)"
      ]
     },
     "execution_count": 18,
     "metadata": {
      "tags": []
     },
     "output_type": "execute_result"
    }
   ],
   "source": [
    "from sklearn.ensemble import RandomForestClassifier\n",
    "parameters = {'max_features':[4,7,8,10],'min_samples_leaf':[1,3,5,8],'max_depth':[3,5,8]}\n",
    "rfc = RandomForestClassifier(n_estimators=100,random_state=42,n_jobs=-1,oob_score=True)\n",
    "forest_grid = GridSearchCV(rfc,parameters,n_jobs=-1,cv=skf,verbose=1)\n",
    "forest_grid.fit(X_train_last,y_train)\n",
    "forest_grid.best_estimator_ , forest_grid.best_score_"
   ]
  },
  {
   "cell_type": "code",
   "execution_count": 19,
   "metadata": {
    "colab": {
     "base_uri": "https://localhost:8080/",
     "height": 207
    },
    "colab_type": "code",
    "id": "aQChN_fzLon5",
    "outputId": "c6829f66-ce7b-4844-a493-db3d46fb5db9"
   },
   "outputs": [
    {
     "name": "stdout",
     "output_type": "stream",
     "text": [
      "Fitting 2 folds for each of 150 candidates, totalling 300 fits\n"
     ]
    },
    {
     "name": "stderr",
     "output_type": "stream",
     "text": [
      "/usr/local/lib/python3.6/dist-packages/sklearn/model_selection/_split.py:605: Warning: The least populated class in y has only 1 members, which is too few. The minimum number of members in any class cannot be less than n_splits=2.\n",
      "  % (min_groups, self.n_splits)), Warning)\n",
      "[Parallel(n_jobs=-1)]: Done 300 out of 300 | elapsed:    0.7s finished\n"
     ]
    },
    {
     "data": {
      "text/plain": [
       "(DecisionTreeClassifier(class_weight=None, criterion='gini', max_depth=7,\n",
       "             max_features=17, max_leaf_nodes=None,\n",
       "             min_impurity_decrease=0.0, min_impurity_split=None,\n",
       "             min_samples_leaf=1, min_samples_split=2,\n",
       "             min_weight_fraction_leaf=0.0, presort=False, random_state=None,\n",
       "             splitter='best'), 0.4583333333333333)"
      ]
     },
     "execution_count": 19,
     "metadata": {
      "tags": []
     },
     "output_type": "execute_result"
    }
   ],
   "source": [
    "from sklearn.tree import DecisionTreeClassifier\n",
    "\n",
    "tree= DecisionTreeClassifier()\n",
    "\n",
    "tree_params = {'max_depth':range(1,11),'max_features':range(4,19)}\n",
    "tree_grid = GridSearchCV(tree,tree_params,cv=skf,n_jobs=-1,verbose=True)\n",
    "tree_grid.fit(X_train_last,y_train)\n",
    "tree_grid.best_estimator_ , tree_grid.best_score_"
   ]
  },
  {
   "cell_type": "code",
   "execution_count": 20,
   "metadata": {
    "colab": {
     "base_uri": "https://localhost:8080/",
     "height": 119
    },
    "colab_type": "code",
    "id": "G72vFULDMobr",
    "outputId": "8f20e1fe-3149-4f43-9601-51ca19538027"
   },
   "outputs": [
    {
     "name": "stdout",
     "output_type": "stream",
     "text": [
      "retrying ...1secs\n",
      "retrying ...1secs\n",
      "retrying ...7secs\n",
      "retrying ...1secs\n",
      "retrying ...7secs\n",
      "retrying ...1secs\n"
     ]
    }
   ],
   "source": [
    "rec_tracks=[]\n",
    "\n",
    "for i in playlist_df['id'].values.tolist():\n",
    "  rec_tracks += sp.recommendations(seed_tracks=[i],limit = int(len(playlist_df)/2))['tracks'];\n",
    "  \n",
    "\n",
    "rec_track_ids=[]\n",
    "rec_track_names = []\n",
    "for i in rec_tracks:\n",
    "  rec_track_ids.append(i['id'])\n",
    "  rec_track_names.append(i['name'])\n",
    "  \n",
    "\n",
    "rec_features=[]\n",
    "\n",
    "for i in range(0,len(rec_track_ids)):\n",
    "  rec_audio_features = sp.audio_features(rec_track_ids[i])\n",
    "  for track in rec_audio_features:\n",
    "    rec_features.append(track)\n",
    "    \n",
    "    \n",
    "rec_playlist_df= pd.DataFrame(rec_features,index = rec_track_ids)"
   ]
  },
  {
   "cell_type": "code",
   "execution_count": 0,
   "metadata": {
    "colab": {},
    "colab_type": "code",
    "id": "nb6EFMlUTuZ1"
   },
   "outputs": [],
   "source": [
    "rec_playlist_df = rec_playlist_df[[\"acousticness\", \"danceability\", \"duration_ms\", \"energy\", \"instrumentalness\",  \"key\", \"liveness\", \"loudness\", \"mode\", \"speechiness\", \"tempo\", \"valence\"]]"
   ]
  },
  {
   "cell_type": "code",
   "execution_count": 0,
   "metadata": {
    "colab": {},
    "colab_type": "code",
    "id": "fsL5Vw46UVT0"
   },
   "outputs": [],
   "source": [
    "tree_grid.best_estimator_.fit(X_train_last,y_train)\n",
    "rec_playlist_df_scaled = StandardScaler().fit_transform(rec_playlist_df)\n",
    "X_test_pca  = pca.transform(rec_playlist_df_scaled)\n",
    "X_test_names = v.transform(rec_track_names)\n",
    "X_test_last = csr_matrix(hstack([X_test_pca,X_test_names]))\n",
    "y_pred_class = tree_grid.best_estimator_.predict(X_test_last)"
   ]
  },
  {
   "cell_type": "code",
   "execution_count": 0,
   "metadata": {
    "colab": {},
    "colab_type": "code",
    "id": "N4TAkd8WWPUa"
   },
   "outputs": [],
   "source": [
    "rec_playlist_df['ratings']=y_pred_class\n",
    "rec_playlist_df = rec_playlist_df.sort_values('ratings',ascending=False)\n",
    "rec_playlist_df = rec_playlist_df.reset_index()\n",
    "\n",
    "recs_to_add = rec_playlist_df[rec_playlist_df['ratings']>=9]['index'].values.tolist()"
   ]
  },
  {
   "cell_type": "code",
   "execution_count": 0,
   "metadata": {
    "colab": {},
    "colab_type": "code",
    "id": "LaUCBoe8XOS_"
   },
   "outputs": [],
   "source": [
    "playlist_recs =sp.user_playlist_create(username,name='PCA + tf-idf + DT - Recommended Songs for Playlist - {}'.format(sourcePlaylist['name']))"
   ]
  },
  {
   "cell_type": "code",
   "execution_count": 25,
   "metadata": {
    "colab": {
     "base_uri": "https://localhost:8080/",
     "height": 459
    },
    "colab_type": "code",
    "id": "eauEBKtPdiJw",
    "outputId": "be5c6081-501b-4121-e1ae-073cc129e772"
   },
   "outputs": [
    {
     "data": {
      "text/plain": [
       "{'collaborative': False,\n",
       " 'description': None,\n",
       " 'external_urls': {'spotify': 'https://open.spotify.com/playlist/4D8p3hVYwgngTmf1FHol0Y'},\n",
       " 'followers': {'href': None, 'total': 0},\n",
       " 'href': 'https://api.spotify.com/v1/playlists/4D8p3hVYwgngTmf1FHol0Y',\n",
       " 'id': '4D8p3hVYwgngTmf1FHol0Y',\n",
       " 'images': [],\n",
       " 'name': 'PCA + tf-idf + DT - Recommended Songs for Playlist - bantai',\n",
       " 'owner': {'display_name': 'francocasadei',\n",
       "  'external_urls': {'spotify': 'https://open.spotify.com/user/francocasadei'},\n",
       "  'href': 'https://api.spotify.com/v1/users/francocasadei',\n",
       "  'id': 'francocasadei',\n",
       "  'type': 'user',\n",
       "  'uri': 'spotify:user:francocasadei'},\n",
       " 'primary_color': None,\n",
       " 'public': True,\n",
       " 'snapshot_id': 'MSxlNTJiYzUxNmUyNTU4ODMyYThkYjMwMWVmMjVjODg5OTYyMWE1N2Qz',\n",
       " 'tracks': {'href': 'https://api.spotify.com/v1/playlists/4D8p3hVYwgngTmf1FHol0Y/tracks',\n",
       "  'items': [],\n",
       "  'limit': 100,\n",
       "  'next': None,\n",
       "  'offset': 0,\n",
       "  'previous': None,\n",
       "  'total': 0},\n",
       " 'type': 'playlist',\n",
       " 'uri': 'spotify:user:francocasadei:playlist:4D8p3hVYwgngTmf1FHol0Y'}"
      ]
     },
     "execution_count": 25,
     "metadata": {
      "tags": []
     },
     "output_type": "execute_result"
    }
   ],
   "source": [
    "playlist_recs"
   ]
  },
  {
   "cell_type": "code",
   "execution_count": 0,
   "metadata": {
    "colab": {},
    "colab_type": "code",
    "id": "Pjp8b-vWXibE"
   },
   "outputs": [],
   "source": [
    "sp.user_playlist_add_tracks(username,playlist_recs['id'],recs_to_add);"
   ]
  },
  {
   "cell_type": "code",
   "execution_count": 0,
   "metadata": {
    "colab": {},
    "colab_type": "code",
    "id": "07ieGpc5ZTai"
   },
   "outputs": [],
   "source": []
  }
 ],
 "metadata": {
  "accelerator": "GPU",
  "colab": {
   "include_colab_link": true,
   "name": "Spotify Recommendation System .ipynb",
   "provenance": [],
   "version": "0.3.2"
  },
  "kernelspec": {
   "display_name": "Python 3",
   "language": "python",
   "name": "python3"
  },
  "language_info": {
   "codemirror_mode": {
    "name": "ipython",
    "version": 3
   },
   "file_extension": ".py",
   "mimetype": "text/x-python",
   "name": "python",
   "nbconvert_exporter": "python",
   "pygments_lexer": "ipython3",
   "version": "3.8.5"
  },
  "toc": {
   "base_numbering": 1,
   "nav_menu": {},
   "number_sections": true,
   "sideBar": true,
   "skip_h1_title": false,
   "title_cell": "Table of Contents",
   "title_sidebar": "Contents",
   "toc_cell": false,
   "toc_position": {},
   "toc_section_display": true,
   "toc_window_display": false
  },
  "varInspector": {
   "cols": {
    "lenName": 16,
    "lenType": 16,
    "lenVar": 40
   },
   "kernels_config": {
    "python": {
     "delete_cmd_postfix": "",
     "delete_cmd_prefix": "del ",
     "library": "var_list.py",
     "varRefreshCmd": "print(var_dic_list())"
    },
    "r": {
     "delete_cmd_postfix": ") ",
     "delete_cmd_prefix": "rm(",
     "library": "var_list.r",
     "varRefreshCmd": "cat(var_dic_list()) "
    }
   },
   "types_to_exclude": [
    "module",
    "function",
    "builtin_function_or_method",
    "instance",
    "_Feature"
   ],
   "window_display": false
  }
 },
 "nbformat": 4,
 "nbformat_minor": 1
}
