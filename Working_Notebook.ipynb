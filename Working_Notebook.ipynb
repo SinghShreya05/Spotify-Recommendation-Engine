{
  "nbformat": 4,
  "nbformat_minor": 0,
  "metadata": {
    "accelerator": "GPU",
    "colab": {
      "name": "Working_Notebook.ipynb",
      "provenance": []
    },
    "kernelspec": {
      "display_name": "Python 3",
      "language": "python",
      "name": "python3"
    },
    "language_info": {
      "codemirror_mode": {
        "name": "ipython",
        "version": 3
      },
      "file_extension": ".py",
      "mimetype": "text/x-python",
      "name": "python",
      "nbconvert_exporter": "python",
      "pygments_lexer": "ipython3",
      "version": "3.8.5"
    },
    "toc": {
      "base_numbering": 1,
      "nav_menu": {},
      "number_sections": true,
      "sideBar": true,
      "skip_h1_title": false,
      "title_cell": "Table of Contents",
      "title_sidebar": "Contents",
      "toc_cell": false,
      "toc_position": {},
      "toc_section_display": true,
      "toc_window_display": false
    },
    "varInspector": {
      "cols": {
        "lenName": 16,
        "lenType": 16,
        "lenVar": 40
      },
      "kernels_config": {
        "python": {
          "delete_cmd_postfix": "",
          "delete_cmd_prefix": "del ",
          "library": "var_list.py",
          "varRefreshCmd": "print(var_dic_list())"
        },
        "r": {
          "delete_cmd_postfix": ") ",
          "delete_cmd_prefix": "rm(",
          "library": "var_list.r",
          "varRefreshCmd": "cat(var_dic_list()) "
        }
      },
      "types_to_exclude": [
        "module",
        "function",
        "builtin_function_or_method",
        "instance",
        "_Feature"
      ],
      "window_display": false
    }
  },
  "cells": [
    {
      "cell_type": "markdown",
      "metadata": {
        "id": "view-in-github"
      },
      "source": [
        "[View in Colaboratory](https://colab.research.google.com/github/ucalyptus/Spotify-Recommendation-Engine/blob/master/Spotify_Recommendation_System_.ipynb)"
      ]
    },
    {
      "cell_type": "code",
      "metadata": {
        "colab": {
          "base_uri": "https://localhost:8080/"
        },
        "id": "LUBdOIn5irHS",
        "outputId": "c5c75598-adc9-4f94-ed8b-125659b7e313"
      },
      "source": [
        "!pip install spotipy"
      ],
      "execution_count": 1,
      "outputs": [
        {
          "output_type": "stream",
          "text": [
            "Collecting spotipy\n",
            "  Downloading https://files.pythonhosted.org/packages/7a/cd/e7d9a35216ea5bfb9234785f3d8fa7c96d0e33999c2cb72394128f6b4cce/spotipy-2.16.1-py3-none-any.whl\n",
            "Requirement already satisfied: six>=1.10.0 in /usr/local/lib/python3.6/dist-packages (from spotipy) (1.15.0)\n",
            "Requirement already satisfied: requests>=2.20.0 in /usr/local/lib/python3.6/dist-packages (from spotipy) (2.23.0)\n",
            "Requirement already satisfied: urllib3!=1.25.0,!=1.25.1,<1.26,>=1.21.1 in /usr/local/lib/python3.6/dist-packages (from requests>=2.20.0->spotipy) (1.24.3)\n",
            "Requirement already satisfied: certifi>=2017.4.17 in /usr/local/lib/python3.6/dist-packages (from requests>=2.20.0->spotipy) (2020.12.5)\n",
            "Requirement already satisfied: idna<3,>=2.5 in /usr/local/lib/python3.6/dist-packages (from requests>=2.20.0->spotipy) (2.10)\n",
            "Requirement already satisfied: chardet<4,>=3.0.2 in /usr/local/lib/python3.6/dist-packages (from requests>=2.20.0->spotipy) (3.0.4)\n",
            "Installing collected packages: spotipy\n",
            "Successfully installed spotipy-2.16.1\n"
          ],
          "name": "stdout"
        }
      ]
    },
    {
      "cell_type": "markdown",
      "metadata": {
        "id": "Uh7PhpFWkcVg"
      },
      "source": [
        "Client ID ffbef2bcb4b84e80b3a0039a2906cb01\n",
        "\n",
        "Client Secret 6c57daa1247f4abe96f38635d38869a0\n",
        "\n",
        "Redirect URI https://developer.spotify.com/dashboard/applications/ffbef2bcb4b84e80b3a0039a2906cb01"
      ]
    },
    {
      "cell_type": "code",
      "metadata": {
        "id": "CQiyBuLziyEI"
      },
      "source": [
        "import spotipy\n",
        "from spotipy.oauth2 import SpotifyClientCredentials\n",
        "import spotipy.util as util"
      ],
      "execution_count": 2,
      "outputs": []
    },
    {
      "cell_type": "code",
      "metadata": {
        "id": "Xo3x51nrk48s"
      },
      "source": [
        "cid = 'ffbef2bcb4b84e80b3a0039a2906cb01'\n",
        "secret = '6c57daa1247f4abe96f38635d38869a0'\n",
        "username = 'francocasadei'\n",
        "redirect_uri = 'https://developer.spotify.com/dashboard/applications/ffbef2bcb4b84e80b3a0039a2906cb01'\n"
      ],
      "execution_count": 3,
      "outputs": []
    },
    {
      "cell_type": "code",
      "metadata": {
        "colab": {
          "base_uri": "https://localhost:8080/"
        },
        "id": "6wqoMOuOlf52",
        "outputId": "06c9f8b2-7215-493e-e750-bad45bc3d2c2"
      },
      "source": [
        "scope = 'user-library-read playlist-modify-public playlist-read-private'\n",
        "\n",
        "client_credentials_manager = SpotifyClientCredentials(client_id = cid, client_secret=secret)\n",
        "\n",
        "sp = spotipy.Spotify(client_credentials_manager= client_credentials_manager)\n",
        "\n",
        "token = util.prompt_for_user_token(username,scope,cid,secret,redirect_uri)\n",
        "\n",
        "if token:\n",
        "  sp = spotipy.Spotify(auth=token)\n",
        "  \n",
        "else:\n",
        "  print(\"Can't get token for\", username)"
      ],
      "execution_count": null,
      "outputs": [
        {
          "output_type": "stream",
          "text": [
            "Couldn't read cache at: .cache-francocasadei\n"
          ],
          "name": "stderr"
        },
        {
          "output_type": "stream",
          "text": [
            "Enter the URL you were redirected to: https://developer.spotify.com/dashboard/applications/ffbef2bcb4b84e80b3a0039a2906cb01\n"
          ],
          "name": "stdout"
        },
        {
          "output_type": "stream",
          "text": [
            "Couldn't read cache at: .cache-francocasadei\n"
          ],
          "name": "stderr"
        },
        {
          "output_type": "stream",
          "text": [
            "Enter the URL you were redirected to: https://developer.spotify.com/dashboard/applications/ffbef2bcb4b84e80b3a0039a2906cb01\n"
          ],
          "name": "stdout"
        }
      ]
    },
    {
      "cell_type": "code",
      "metadata": {
        "id": "WxaTn9mLmcqZ"
      },
      "source": [
        "import pandas as pd\n",
        "\n",
        "#https://open.spotify.com/user/francocasadei/playlist/6aWL6tZgIycyz98WgigfsG\n",
        "sourcePlaylistID = '6aWL6tZgIycyz98WgigfsG'\n",
        "sourcePlaylist = sp.user_playlist(username,sourcePlaylistID);\n",
        "tracks = sourcePlaylist[\"tracks\"];\n",
        "songs = tracks[\"items\"];\n",
        "\n",
        "track_ids = []\n",
        "track_names = []\n",
        "\n",
        "\n",
        "for i in range(0, len(songs)):\n",
        "  if songs[i]['track']['id']!=None:\n",
        "    track_ids.append(songs[i]['track']['id'])\n",
        "    track_names.append(songs[i]['track']['name'])\n",
        "    \n",
        "features = []\n",
        "\n",
        "\n",
        "for i in range(0,len(track_ids)):\n",
        "  audio_features  = sp.audio_features(track_ids[i])\n",
        "  for track in audio_features:\n",
        "    features.append(track)\n",
        "    \n",
        "    \n",
        "playlist_df = pd.DataFrame(features,index = track_names)"
      ],
      "execution_count": 5,
      "outputs": []
    },
    {
      "cell_type": "code",
      "metadata": {
        "id": "MooiGYAppQ91"
      },
      "source": [
        "#francocasadei@yahoo.it:astrolabio"
      ],
      "execution_count": null,
      "outputs": []
    },
    {
      "cell_type": "code",
      "metadata": {
        "id": "mA3jsda2sk2n"
      },
      "source": [
        "playlist_df = playlist_df[[\"id\", \"acousticness\", \"danceability\", \"duration_ms\", \"energy\", \"instrumentalness\",  \"key\", \"liveness\", \"loudness\", \"mode\", \"speechiness\", \"tempo\", \"valence\"]]"
      ],
      "execution_count": 6,
      "outputs": []
    },
    {
      "cell_type": "code",
      "metadata": {
        "colab": {
          "base_uri": "https://localhost:8080/"
        },
        "id": "oHA0fckEtZ9u",
        "outputId": "a5600465-2f84-4654-c212-35de3b17bf00"
      },
      "source": [
        "playlist_df.shape"
      ],
      "execution_count": 7,
      "outputs": [
        {
          "output_type": "execute_result",
          "data": {
            "text/plain": [
              "(26, 13)"
            ]
          },
          "metadata": {
            "tags": []
          },
          "execution_count": 7
        }
      ]
    },
    {
      "cell_type": "code",
      "metadata": {
        "id": "cJBLzEg_twFM"
      },
      "source": [
        "playlist_df['ratings']=[10, 9, 9, 10, 8, 6, 8, 4, 3, 5, 7, 5, 5, 8, 8,10,4,6,8,2,4,5,6,9,8,7]"
      ],
      "execution_count": 10,
      "outputs": []
    },
    {
      "cell_type": "code",
      "metadata": {
        "colab": {
          "base_uri": "https://localhost:8080/",
          "height": 1000
        },
        "id": "ZO9-WVjnuR-F",
        "outputId": "86ea3b8a-9701-4146-b6ef-b62d6cc2da98"
      },
      "source": [
        "playlist_df"
      ],
      "execution_count": 11,
      "outputs": [
        {
          "output_type": "execute_result",
          "data": {
            "text/html": [
              "<div>\n",
              "<style scoped>\n",
              "    .dataframe tbody tr th:only-of-type {\n",
              "        vertical-align: middle;\n",
              "    }\n",
              "\n",
              "    .dataframe tbody tr th {\n",
              "        vertical-align: top;\n",
              "    }\n",
              "\n",
              "    .dataframe thead th {\n",
              "        text-align: right;\n",
              "    }\n",
              "</style>\n",
              "<table border=\"1\" class=\"dataframe\">\n",
              "  <thead>\n",
              "    <tr style=\"text-align: right;\">\n",
              "      <th></th>\n",
              "      <th>id</th>\n",
              "      <th>acousticness</th>\n",
              "      <th>danceability</th>\n",
              "      <th>duration_ms</th>\n",
              "      <th>energy</th>\n",
              "      <th>instrumentalness</th>\n",
              "      <th>key</th>\n",
              "      <th>liveness</th>\n",
              "      <th>loudness</th>\n",
              "      <th>mode</th>\n",
              "      <th>speechiness</th>\n",
              "      <th>tempo</th>\n",
              "      <th>valence</th>\n",
              "      <th>ratings</th>\n",
              "    </tr>\n",
              "  </thead>\n",
              "  <tbody>\n",
              "    <tr>\n",
              "      <th>Losers</th>\n",
              "      <td>1bAvtmTl0F9loyz9AwPwp7</td>\n",
              "      <td>0.03550</td>\n",
              "      <td>0.666</td>\n",
              "      <td>281147</td>\n",
              "      <td>0.485</td>\n",
              "      <td>0.000599</td>\n",
              "      <td>0</td>\n",
              "      <td>0.5040</td>\n",
              "      <td>-9.850</td>\n",
              "      <td>0</td>\n",
              "      <td>0.0530</td>\n",
              "      <td>91.007</td>\n",
              "      <td>0.2870</td>\n",
              "      <td>10</td>\n",
              "    </tr>\n",
              "    <tr>\n",
              "      <th>Tell Your Friends</th>\n",
              "      <td>1mhVXWduD8ReDwusfaHNwU</td>\n",
              "      <td>0.26500</td>\n",
              "      <td>0.583</td>\n",
              "      <td>334333</td>\n",
              "      <td>0.454</td>\n",
              "      <td>0.000000</td>\n",
              "      <td>1</td>\n",
              "      <td>0.1810</td>\n",
              "      <td>-11.091</td>\n",
              "      <td>0</td>\n",
              "      <td>0.0425</td>\n",
              "      <td>74.640</td>\n",
              "      <td>0.3090</td>\n",
              "      <td>9</td>\n",
              "    </tr>\n",
              "    <tr>\n",
              "      <th>Often</th>\n",
              "      <td>4PhsKqMdgMEUSstTDAmMpg</td>\n",
              "      <td>0.22200</td>\n",
              "      <td>0.572</td>\n",
              "      <td>249040</td>\n",
              "      <td>0.631</td>\n",
              "      <td>0.000000</td>\n",
              "      <td>7</td>\n",
              "      <td>0.1350</td>\n",
              "      <td>-9.836</td>\n",
              "      <td>0</td>\n",
              "      <td>0.0476</td>\n",
              "      <td>134.078</td>\n",
              "      <td>0.0713</td>\n",
              "      <td>9</td>\n",
              "    </tr>\n",
              "    <tr>\n",
              "      <th>The Hills</th>\n",
              "      <td>7fBv7CLKzipRk6EC6TWHOB</td>\n",
              "      <td>0.06710</td>\n",
              "      <td>0.585</td>\n",
              "      <td>242253</td>\n",
              "      <td>0.564</td>\n",
              "      <td>0.000000</td>\n",
              "      <td>0</td>\n",
              "      <td>0.1350</td>\n",
              "      <td>-7.063</td>\n",
              "      <td>0</td>\n",
              "      <td>0.0515</td>\n",
              "      <td>113.003</td>\n",
              "      <td>0.1370</td>\n",
              "      <td>10</td>\n",
              "    </tr>\n",
              "    <tr>\n",
              "      <th>Acquainted</th>\n",
              "      <td>7uJH0YdSZL6psjxI6Xy08b</td>\n",
              "      <td>0.48200</td>\n",
              "      <td>0.372</td>\n",
              "      <td>348853</td>\n",
              "      <td>0.478</td>\n",
              "      <td>0.000000</td>\n",
              "      <td>7</td>\n",
              "      <td>0.0844</td>\n",
              "      <td>-9.835</td>\n",
              "      <td>0</td>\n",
              "      <td>0.0503</td>\n",
              "      <td>101.102</td>\n",
              "      <td>0.2540</td>\n",
              "      <td>8</td>\n",
              "    </tr>\n",
              "    <tr>\n",
              "      <th>Can't Feel My Face</th>\n",
              "      <td>22VdIZQfgXJea34mQxlt81</td>\n",
              "      <td>0.11300</td>\n",
              "      <td>0.705</td>\n",
              "      <td>213520</td>\n",
              "      <td>0.769</td>\n",
              "      <td>0.000000</td>\n",
              "      <td>9</td>\n",
              "      <td>0.1050</td>\n",
              "      <td>-5.526</td>\n",
              "      <td>0</td>\n",
              "      <td>0.0425</td>\n",
              "      <td>107.949</td>\n",
              "      <td>0.5830</td>\n",
              "      <td>6</td>\n",
              "    </tr>\n",
              "    <tr>\n",
              "      <th>Shameless</th>\n",
              "      <td>6C6fHTuFUxVtJpBOOaMvJr</td>\n",
              "      <td>0.14700</td>\n",
              "      <td>0.603</td>\n",
              "      <td>253507</td>\n",
              "      <td>0.563</td>\n",
              "      <td>0.000000</td>\n",
              "      <td>6</td>\n",
              "      <td>0.1090</td>\n",
              "      <td>-8.313</td>\n",
              "      <td>1</td>\n",
              "      <td>0.0270</td>\n",
              "      <td>100.060</td>\n",
              "      <td>0.2340</td>\n",
              "      <td>8</td>\n",
              "    </tr>\n",
              "    <tr>\n",
              "      <th>Earned It (Fifty Shades Of Grey)</th>\n",
              "      <td>4frLb7nWtsz2ymBE6k2GRP</td>\n",
              "      <td>0.40500</td>\n",
              "      <td>0.659</td>\n",
              "      <td>277680</td>\n",
              "      <td>0.291</td>\n",
              "      <td>0.000000</td>\n",
              "      <td>2</td>\n",
              "      <td>0.0771</td>\n",
              "      <td>-8.275</td>\n",
              "      <td>0</td>\n",
              "      <td>0.0348</td>\n",
              "      <td>119.829</td>\n",
              "      <td>0.4060</td>\n",
              "      <td>4</td>\n",
              "    </tr>\n",
              "    <tr>\n",
              "      <th>In The Night</th>\n",
              "      <td>25KybV9BOUlvcnv7nN3Pyo</td>\n",
              "      <td>0.07960</td>\n",
              "      <td>0.505</td>\n",
              "      <td>235653</td>\n",
              "      <td>0.680</td>\n",
              "      <td>0.000000</td>\n",
              "      <td>7</td>\n",
              "      <td>0.0465</td>\n",
              "      <td>-4.993</td>\n",
              "      <td>1</td>\n",
              "      <td>0.0714</td>\n",
              "      <td>168.022</td>\n",
              "      <td>0.5390</td>\n",
              "      <td>3</td>\n",
              "    </tr>\n",
              "    <tr>\n",
              "      <th>As You Are</th>\n",
              "      <td>3H3qBumaYj67PT3aMEBvAP</td>\n",
              "      <td>0.13100</td>\n",
              "      <td>0.377</td>\n",
              "      <td>340493</td>\n",
              "      <td>0.329</td>\n",
              "      <td>0.006540</td>\n",
              "      <td>0</td>\n",
              "      <td>0.2790</td>\n",
              "      <td>-9.670</td>\n",
              "      <td>0</td>\n",
              "      <td>0.0569</td>\n",
              "      <td>173.663</td>\n",
              "      <td>0.0528</td>\n",
              "      <td>5</td>\n",
              "    </tr>\n",
              "    <tr>\n",
              "      <th>Dark Times</th>\n",
              "      <td>6J7PIkhtHwmFjPLq0SyuPj</td>\n",
              "      <td>0.11600</td>\n",
              "      <td>0.501</td>\n",
              "      <td>260640</td>\n",
              "      <td>0.403</td>\n",
              "      <td>0.000010</td>\n",
              "      <td>7</td>\n",
              "      <td>0.1240</td>\n",
              "      <td>-9.611</td>\n",
              "      <td>1</td>\n",
              "      <td>0.0747</td>\n",
              "      <td>132.608</td>\n",
              "      <td>0.2700</td>\n",
              "      <td>7</td>\n",
              "    </tr>\n",
              "    <tr>\n",
              "      <th>Prisoner</th>\n",
              "      <td>1gZADNt16Oh23jWyMYRk4p</td>\n",
              "      <td>0.44300</td>\n",
              "      <td>0.551</td>\n",
              "      <td>274960</td>\n",
              "      <td>0.405</td>\n",
              "      <td>0.000217</td>\n",
              "      <td>0</td>\n",
              "      <td>0.1100</td>\n",
              "      <td>-12.756</td>\n",
              "      <td>0</td>\n",
              "      <td>0.0398</td>\n",
              "      <td>135.017</td>\n",
              "      <td>0.3410</td>\n",
              "      <td>5</td>\n",
              "    </tr>\n",
              "    <tr>\n",
              "      <th>Angel</th>\n",
              "      <td>0wzPHTgOtFIDhk2rD3Au4x</td>\n",
              "      <td>0.10500</td>\n",
              "      <td>0.626</td>\n",
              "      <td>377347</td>\n",
              "      <td>0.583</td>\n",
              "      <td>0.000000</td>\n",
              "      <td>10</td>\n",
              "      <td>0.1150</td>\n",
              "      <td>-7.574</td>\n",
              "      <td>0</td>\n",
              "      <td>0.0435</td>\n",
              "      <td>127.966</td>\n",
              "      <td>0.3350</td>\n",
              "      <td>5</td>\n",
              "    </tr>\n",
              "    <tr>\n",
              "      <th>Switch</th>\n",
              "      <td>29ZZAShKhwRUuKULSNtxX6</td>\n",
              "      <td>0.04090</td>\n",
              "      <td>0.660</td>\n",
              "      <td>207071</td>\n",
              "      <td>0.658</td>\n",
              "      <td>0.005950</td>\n",
              "      <td>7</td>\n",
              "      <td>0.1020</td>\n",
              "      <td>-6.127</td>\n",
              "      <td>1</td>\n",
              "      <td>0.0387</td>\n",
              "      <td>176.701</td>\n",
              "      <td>0.1530</td>\n",
              "      <td>8</td>\n",
              "    </tr>\n",
              "    <tr>\n",
              "      <th>OTW</th>\n",
              "      <td>6Hgh47WXVKtXN5zGOu0hjI</td>\n",
              "      <td>0.18300</td>\n",
              "      <td>0.652</td>\n",
              "      <td>263014</td>\n",
              "      <td>0.678</td>\n",
              "      <td>0.000033</td>\n",
              "      <td>2</td>\n",
              "      <td>0.1060</td>\n",
              "      <td>-6.183</td>\n",
              "      <td>1</td>\n",
              "      <td>0.0541</td>\n",
              "      <td>72.989</td>\n",
              "      <td>0.2800</td>\n",
              "      <td>8</td>\n",
              "    </tr>\n",
              "    <tr>\n",
              "      <th>Real Life</th>\n",
              "      <td>03j354P848KtNU2FVSwkDG</td>\n",
              "      <td>0.43900</td>\n",
              "      <td>0.581</td>\n",
              "      <td>223373</td>\n",
              "      <td>0.652</td>\n",
              "      <td>0.000000</td>\n",
              "      <td>11</td>\n",
              "      <td>0.3510</td>\n",
              "      <td>-5.039</td>\n",
              "      <td>0</td>\n",
              "      <td>0.0496</td>\n",
              "      <td>90.634</td>\n",
              "      <td>0.3580</td>\n",
              "      <td>10</td>\n",
              "    </tr>\n",
              "    <tr>\n",
              "      <th>Pretty</th>\n",
              "      <td>0ei3uNcwJOiUocuks1vWcb</td>\n",
              "      <td>0.03550</td>\n",
              "      <td>0.580</td>\n",
              "      <td>375400</td>\n",
              "      <td>0.685</td>\n",
              "      <td>0.000034</td>\n",
              "      <td>11</td>\n",
              "      <td>0.3150</td>\n",
              "      <td>-6.829</td>\n",
              "      <td>0</td>\n",
              "      <td>0.0394</td>\n",
              "      <td>125.968</td>\n",
              "      <td>0.3310</td>\n",
              "      <td>4</td>\n",
              "    </tr>\n",
              "    <tr>\n",
              "      <th>Hotline Bling</th>\n",
              "      <td>0wwPcA6wtMf6HUMpIRdeP7</td>\n",
              "      <td>0.00258</td>\n",
              "      <td>0.891</td>\n",
              "      <td>267067</td>\n",
              "      <td>0.628</td>\n",
              "      <td>0.000190</td>\n",
              "      <td>2</td>\n",
              "      <td>0.0504</td>\n",
              "      <td>-7.863</td>\n",
              "      <td>1</td>\n",
              "      <td>0.0551</td>\n",
              "      <td>134.966</td>\n",
              "      <td>0.5520</td>\n",
              "      <td>6</td>\n",
              "    </tr>\n",
              "    <tr>\n",
              "      <th>The Morning</th>\n",
              "      <td>6u0dQik0aif7FQlrhycG1L</td>\n",
              "      <td>0.31700</td>\n",
              "      <td>0.652</td>\n",
              "      <td>312427</td>\n",
              "      <td>0.549</td>\n",
              "      <td>0.000000</td>\n",
              "      <td>6</td>\n",
              "      <td>0.1040</td>\n",
              "      <td>-7.555</td>\n",
              "      <td>0</td>\n",
              "      <td>0.0390</td>\n",
              "      <td>120.073</td>\n",
              "      <td>0.1860</td>\n",
              "      <td>8</td>\n",
              "    </tr>\n",
              "    <tr>\n",
              "      <th>High For This</th>\n",
              "      <td>5fohLPNqO6TqwrZ7BoUWUT</td>\n",
              "      <td>0.74400</td>\n",
              "      <td>0.465</td>\n",
              "      <td>247227</td>\n",
              "      <td>0.403</td>\n",
              "      <td>0.000667</td>\n",
              "      <td>11</td>\n",
              "      <td>0.0777</td>\n",
              "      <td>-8.895</td>\n",
              "      <td>0</td>\n",
              "      <td>0.0755</td>\n",
              "      <td>74.950</td>\n",
              "      <td>0.0687</td>\n",
              "      <td>2</td>\n",
              "    </tr>\n",
              "    <tr>\n",
              "      <th>Wicked Games</th>\n",
              "      <td>6VwBbL8CzPiC4QV66ay7oR</td>\n",
              "      <td>0.00959</td>\n",
              "      <td>0.658</td>\n",
              "      <td>323747</td>\n",
              "      <td>0.591</td>\n",
              "      <td>0.000005</td>\n",
              "      <td>9</td>\n",
              "      <td>0.3250</td>\n",
              "      <td>-5.197</td>\n",
              "      <td>1</td>\n",
              "      <td>0.0309</td>\n",
              "      <td>114.078</td>\n",
              "      <td>0.3260</td>\n",
              "      <td>4</td>\n",
              "    </tr>\n",
              "    <tr>\n",
              "      <th>Kiss Land</th>\n",
              "      <td>5idmfDT06TjCQ1SPDsa5qh</td>\n",
              "      <td>0.04150</td>\n",
              "      <td>0.324</td>\n",
              "      <td>455333</td>\n",
              "      <td>0.852</td>\n",
              "      <td>0.000000</td>\n",
              "      <td>11</td>\n",
              "      <td>0.0610</td>\n",
              "      <td>-6.675</td>\n",
              "      <td>0</td>\n",
              "      <td>0.1090</td>\n",
              "      <td>121.881</td>\n",
              "      <td>0.4000</td>\n",
              "      <td>5</td>\n",
              "    </tr>\n",
              "    <tr>\n",
              "      <th>Desire - Gryffin Remix</th>\n",
              "      <td>6JzCO4ZzxAXhY86vTcqM1Q</td>\n",
              "      <td>0.06060</td>\n",
              "      <td>0.543</td>\n",
              "      <td>268840</td>\n",
              "      <td>0.876</td>\n",
              "      <td>0.000000</td>\n",
              "      <td>10</td>\n",
              "      <td>0.1570</td>\n",
              "      <td>-5.069</td>\n",
              "      <td>0</td>\n",
              "      <td>0.0512</td>\n",
              "      <td>122.058</td>\n",
              "      <td>0.4150</td>\n",
              "      <td>6</td>\n",
              "    </tr>\n",
              "    <tr>\n",
              "      <th>King</th>\n",
              "      <td>5Z3zRrMIJk7CVpfcLsM9wD</td>\n",
              "      <td>0.05940</td>\n",
              "      <td>0.560</td>\n",
              "      <td>215360</td>\n",
              "      <td>0.857</td>\n",
              "      <td>0.000000</td>\n",
              "      <td>4</td>\n",
              "      <td>0.3810</td>\n",
              "      <td>-4.145</td>\n",
              "      <td>0</td>\n",
              "      <td>0.0384</td>\n",
              "      <td>119.975</td>\n",
              "      <td>0.4320</td>\n",
              "      <td>9</td>\n",
              "    </tr>\n",
              "    <tr>\n",
              "      <th>wake up</th>\n",
              "      <td>1qIuzMdRW3QdbOWZFXanqT</td>\n",
              "      <td>0.35700</td>\n",
              "      <td>0.854</td>\n",
              "      <td>291130</td>\n",
              "      <td>0.339</td>\n",
              "      <td>0.000000</td>\n",
              "      <td>10</td>\n",
              "      <td>0.0573</td>\n",
              "      <td>-8.152</td>\n",
              "      <td>1</td>\n",
              "      <td>0.0619</td>\n",
              "      <td>115.007</td>\n",
              "      <td>0.3410</td>\n",
              "      <td>8</td>\n",
              "    </tr>\n",
              "    <tr>\n",
              "      <th>I Don't Need Ya (feat. Skippa Da Flippa &amp; Sancho)</th>\n",
              "      <td>3W4B69HN0YEopiISW9ny27</td>\n",
              "      <td>0.02740</td>\n",
              "      <td>0.757</td>\n",
              "      <td>164589</td>\n",
              "      <td>0.612</td>\n",
              "      <td>0.000000</td>\n",
              "      <td>10</td>\n",
              "      <td>0.1240</td>\n",
              "      <td>-7.230</td>\n",
              "      <td>0</td>\n",
              "      <td>0.1310</td>\n",
              "      <td>140.058</td>\n",
              "      <td>0.3500</td>\n",
              "      <td>7</td>\n",
              "    </tr>\n",
              "  </tbody>\n",
              "</table>\n",
              "</div>"
            ],
            "text/plain": [
              "                                                                       id  ...  ratings\n",
              "Losers                                             1bAvtmTl0F9loyz9AwPwp7  ...       10\n",
              "Tell Your Friends                                  1mhVXWduD8ReDwusfaHNwU  ...        9\n",
              "Often                                              4PhsKqMdgMEUSstTDAmMpg  ...        9\n",
              "The Hills                                          7fBv7CLKzipRk6EC6TWHOB  ...       10\n",
              "Acquainted                                         7uJH0YdSZL6psjxI6Xy08b  ...        8\n",
              "Can't Feel My Face                                 22VdIZQfgXJea34mQxlt81  ...        6\n",
              "Shameless                                          6C6fHTuFUxVtJpBOOaMvJr  ...        8\n",
              "Earned It (Fifty Shades Of Grey)                   4frLb7nWtsz2ymBE6k2GRP  ...        4\n",
              "In The Night                                       25KybV9BOUlvcnv7nN3Pyo  ...        3\n",
              "As You Are                                         3H3qBumaYj67PT3aMEBvAP  ...        5\n",
              "Dark Times                                         6J7PIkhtHwmFjPLq0SyuPj  ...        7\n",
              "Prisoner                                           1gZADNt16Oh23jWyMYRk4p  ...        5\n",
              "Angel                                              0wzPHTgOtFIDhk2rD3Au4x  ...        5\n",
              "Switch                                             29ZZAShKhwRUuKULSNtxX6  ...        8\n",
              "OTW                                                6Hgh47WXVKtXN5zGOu0hjI  ...        8\n",
              "Real Life                                          03j354P848KtNU2FVSwkDG  ...       10\n",
              "Pretty                                             0ei3uNcwJOiUocuks1vWcb  ...        4\n",
              "Hotline Bling                                      0wwPcA6wtMf6HUMpIRdeP7  ...        6\n",
              "The Morning                                        6u0dQik0aif7FQlrhycG1L  ...        8\n",
              "High For This                                      5fohLPNqO6TqwrZ7BoUWUT  ...        2\n",
              "Wicked Games                                       6VwBbL8CzPiC4QV66ay7oR  ...        4\n",
              "Kiss Land                                          5idmfDT06TjCQ1SPDsa5qh  ...        5\n",
              "Desire - Gryffin Remix                             6JzCO4ZzxAXhY86vTcqM1Q  ...        6\n",
              "King                                               5Z3zRrMIJk7CVpfcLsM9wD  ...        9\n",
              "wake up                                            1qIuzMdRW3QdbOWZFXanqT  ...        8\n",
              "I Don't Need Ya (feat. Skippa Da Flippa & Sancho)  3W4B69HN0YEopiISW9ny27  ...        7\n",
              "\n",
              "[26 rows x 14 columns]"
            ]
          },
          "metadata": {
            "tags": []
          },
          "execution_count": 11
        }
      ]
    },
    {
      "cell_type": "code",
      "metadata": {
        "id": "lQ-PbjSzuUrD"
      },
      "source": [
        "X_train = playlist_df.drop(['id', 'ratings'], axis=1)\n",
        "y_train = playlist_df['ratings']"
      ],
      "execution_count": 12,
      "outputs": []
    },
    {
      "cell_type": "code",
      "metadata": {
        "colab": {
          "base_uri": "https://localhost:8080/",
          "height": 447
        },
        "id": "OG_UdNebud6H",
        "outputId": "cec1d4e7-72d9-448c-e4b6-9279ab11d67f"
      },
      "source": [
        "import numpy as np\n",
        "from sklearn import decomposition\n",
        "from sklearn.preprocessing import StandardScaler\n",
        "import matplotlib.pyplot as plt\n",
        "import seaborn as sns; sns.set(style='white')\n",
        "%matplotlib inline\n",
        "%config InlineBackend.figure_format = 'retina'\n",
        "\n",
        "X_scaled = StandardScaler().fit_transform(X_train)\n",
        "\n",
        "pca = decomposition.PCA().fit(X_scaled)\n",
        "\n",
        "\n",
        "plt.figure(figsize=(10,7))\n",
        "plt.plot(np.cumsum(pca.explained_variance_ratio_),color='k',lw=2)\n",
        "plt.xlabel('Number of components')\n",
        "plt.ylabel('Total explained variance')\n",
        "plt.xlim(0,12)\n",
        "plt.yticks(np.arange(0,1.1,0.1))\n",
        "plt.axvline(8,c='b')\n",
        "plt.axhline(0.95,c='r')\n",
        "plt.show();"
      ],
      "execution_count": 13,
      "outputs": [
        {
          "output_type": "display_data",
          "data": {
            "image/png": "[encoded data removed]",
            "text/plain": [
              "<Figure size 720x504 with 1 Axes>"
            ]
          },
          "metadata": {
            "tags": [],
            "image/png": {
              "width": 622,
              "height": 430
            },
            "needs_background": "light"
          }
        }
      ]
    },
    {
      "cell_type": "code",
      "metadata": {
        "id": "Te0mkPNLv8O7"
      },
      "source": [
        "# Fit your dataset to the optimal pca\n",
        "pca = decomposition.PCA(n_components=8)\n",
        "X_pca = pca.fit_transform(X_scaled)"
      ],
      "execution_count": 14,
      "outputs": []
    },
    {
      "cell_type": "code",
      "metadata": {
        "colab": {
          "base_uri": "https://localhost:8080/"
        },
        "id": "Scla3DOowqsA",
        "outputId": "175aa9f6-fdde-4952-fc34-25a32fd4744d"
      },
      "source": [
        "from sklearn.feature_extraction.text import TfidfVectorizer\n",
        "v = TfidfVectorizer(sublinear_tf = True, ngram_range=(1,6),\n",
        "                   max_features=10000)\n",
        "X_names_sparse=v.fit_transform(track_names)\n",
        "X_names_sparse.shape"
      ],
      "execution_count": 15,
      "outputs": [
        {
          "output_type": "execute_result",
          "data": {
            "text/plain": [
              "(26, 126)"
            ]
          },
          "metadata": {
            "tags": []
          },
          "execution_count": 15
        }
      ]
    },
    {
      "cell_type": "code",
      "metadata": {
        "id": "xX3LjfChxDWn"
      },
      "source": [
        "from scipy.sparse import csr_matrix, hstack\n",
        "\n",
        "X_train_last = csr_matrix(hstack([X_pca, X_names_sparse]))"
      ],
      "execution_count": 16,
      "outputs": []
    },
    {
      "cell_type": "code",
      "metadata": {
        "id": "yb5E1q6UxKFx"
      },
      "source": [
        "from sklearn.model_selection import StratifiedKFold, GridSearchCV\n",
        "\n",
        "skf = StratifiedKFold(n_splits=2,shuffle=True,random_state=42)"
      ],
      "execution_count": 17,
      "outputs": []
    },
    {
      "cell_type": "code",
      "metadata": {
        "colab": {
          "base_uri": "https://localhost:8080/"
        },
        "id": "Pej5Ou65Ca4I",
        "outputId": "44175f8f-8532-43bd-fa74-e054e87bcd11"
      },
      "source": [
        "from sklearn.neighbors import KNeighborsClassifier\n",
        "\n",
        "knn_params = {'n_neighbors':range(1,10)}\n",
        "knn = KNeighborsClassifier(n_jobs=-1)\n",
        "\n",
        "knn_grid= GridSearchCV(knn,knn_params,cv=skf,n_jobs =-1,verbose=True)\n",
        "knn_grid.fit(X_train_last,y_train)\n",
        "knn_grid.best_params_, knn_grid.best_score_"
      ],
      "execution_count": 18,
      "outputs": [
        {
          "output_type": "stream",
          "text": [
            "Fitting 2 folds for each of 9 candidates, totalling 18 fits\n"
          ],
          "name": "stdout"
        },
        {
          "output_type": "stream",
          "text": [
            "/usr/local/lib/python3.6/dist-packages/sklearn/model_selection/_split.py:667: UserWarning: The least populated class in y has only 1 members, which is less than n_splits=2.\n",
            "  % (min_groups, self.n_splits)), UserWarning)\n",
            "[Parallel(n_jobs=-1)]: Using backend LokyBackend with 2 concurrent workers.\n",
            "[Parallel(n_jobs=-1)]: Done  18 out of  18 | elapsed:    2.1s finished\n"
          ],
          "name": "stderr"
        },
        {
          "output_type": "execute_result",
          "data": {
            "text/plain": [
              "({'n_neighbors': 1}, 0.2692307692307693)"
            ]
          },
          "metadata": {
            "tags": []
          },
          "execution_count": 18
        }
      ]
    },
    {
      "cell_type": "code",
      "metadata": {
        "colab": {
          "base_uri": "https://localhost:8080/"
        },
        "id": "o6IO7ihjSRpW",
        "outputId": "60e46022-61a3-49e3-918e-6cf0838ffe59"
      },
      "source": [
        "# PCA+SVM\n",
        "sc = StandardScaler()   \n",
        "X_train = sc.fit_transform(X_train) \n",
        "from sklearn.decomposition import PCA \n",
        "pca = PCA(n_components = 7) \n",
        "X_train = pca.fit_transform(X_train) \n",
        "from sklearn.svm import SVC\n",
        "base_estimator = SVC(kernel=\"rbf\")\n",
        "param_grid = {'C': [0.1, 1, 10, 100, 1000],  \n",
        "              'gamma': [1, 0.1, 0.01, 0.001, 0.0001], \n",
        "              'kernel': ['rbf']}  \n",
        "svm_grid = GridSearchCV(base_estimator, param_grid, refit = True, verbose = 3) \n",
        "svm_grid.fit(X_train, y_train) \n",
        "svm_grid.best_estimator_ , svm_grid.best_score_"
      ],
      "execution_count": 21,
      "outputs": [
        {
          "output_type": "stream",
          "text": [
            "Fitting 5 folds for each of 25 candidates, totalling 125 fits\n",
            "[CV] C=0.1, gamma=1, kernel=rbf ......................................\n",
            "[CV] .......... C=0.1, gamma=1, kernel=rbf, score=0.167, total=   0.0s\n",
            "[CV] C=0.1, gamma=1, kernel=rbf ......................................\n",
            "[CV] .......... C=0.1, gamma=1, kernel=rbf, score=0.400, total=   0.0s\n",
            "[CV] C=0.1, gamma=1, kernel=rbf ......................................\n",
            "[CV] .......... C=0.1, gamma=1, kernel=rbf, score=0.200, total=   0.0s\n",
            "[CV] C=0.1, gamma=1, kernel=rbf ......................................\n",
            "[CV] .......... C=0.1, gamma=1, kernel=rbf, score=0.200, total=   0.0s\n",
            "[CV] C=0.1, gamma=1, kernel=rbf ......................................\n",
            "[CV] .......... C=0.1, gamma=1, kernel=rbf, score=0.200, total=   0.0s\n",
            "[CV] C=0.1, gamma=0.1, kernel=rbf ....................................\n",
            "[CV] ........ C=0.1, gamma=0.1, kernel=rbf, score=0.167, total=   0.0s\n",
            "[CV] C=0.1, gamma=0.1, kernel=rbf ....................................\n",
            "[CV] ........ C=0.1, gamma=0.1, kernel=rbf, score=0.400, total=   0.0s\n",
            "[CV] C=0.1, gamma=0.1, kernel=rbf ....................................\n",
            "[CV] ........ C=0.1, gamma=0.1, kernel=rbf, score=0.200, total=   0.0s\n",
            "[CV] C=0.1, gamma=0.1, kernel=rbf ....................................\n",
            "[CV] ........ C=0.1, gamma=0.1, kernel=rbf, score=0.200, total=   0.0s\n",
            "[CV] C=0.1, gamma=0.1, kernel=rbf ....................................\n",
            "[CV] ........ C=0.1, gamma=0.1, kernel=rbf, score=0.200, total=   0.0s\n",
            "[CV] C=0.1, gamma=0.01, kernel=rbf ...................................\n",
            "[CV] ....... C=0.1, gamma=0.01, kernel=rbf, score=0.167, total=   0.0s\n",
            "[CV] C=0.1, gamma=0.01, kernel=rbf ...................................\n",
            "[CV] ....... C=0.1, gamma=0.01, kernel=rbf, score=0.400, total=   0.0s\n",
            "[CV] C=0.1, gamma=0.01, kernel=rbf ...................................\n",
            "[CV] ....... C=0.1, gamma=0.01, kernel=rbf, score=0.200, total=   0.0s\n",
            "[CV] C=0.1, gamma=0.01, kernel=rbf ...................................\n",
            "[CV] ....... C=0.1, gamma=0.01, kernel=rbf, score=0.200, total=   0.0s\n",
            "[CV] C=0.1, gamma=0.01, kernel=rbf ...................................\n",
            "[CV] ....... C=0.1, gamma=0.01, kernel=rbf, score=0.200, total=   0.0s\n",
            "[CV] C=0.1, gamma=0.001, kernel=rbf ..................................\n",
            "[CV] ...... C=0.1, gamma=0.001, kernel=rbf, score=0.167, total=   0.0s\n",
            "[CV] C=0.1, gamma=0.001, kernel=rbf ..................................\n",
            "[CV] ...... C=0.1, gamma=0.001, kernel=rbf, score=0.400, total=   0.0s\n",
            "[CV] C=0.1, gamma=0.001, kernel=rbf ..................................\n",
            "[CV] ...... C=0.1, gamma=0.001, kernel=rbf, score=0.200, total=   0.0s\n",
            "[CV] C=0.1, gamma=0.001, kernel=rbf ..................................\n",
            "[CV] ...... C=0.1, gamma=0.001, kernel=rbf, score=0.200, total=   0.0s\n",
            "[CV] C=0.1, gamma=0.001, kernel=rbf ..................................\n",
            "[CV] ...... C=0.1, gamma=0.001, kernel=rbf, score=0.200, total=   0.0s\n",
            "[CV] C=0.1, gamma=0.0001, kernel=rbf .................................\n",
            "[CV] ..... C=0.1, gamma=0.0001, kernel=rbf, score=0.167, total=   0.0s\n",
            "[CV] C=0.1, gamma=0.0001, kernel=rbf .................................\n",
            "[CV] ..... C=0.1, gamma=0.0001, kernel=rbf, score=0.400, total=   0.0s\n",
            "[CV] C=0.1, gamma=0.0001, kernel=rbf .................................\n",
            "[CV] ..... C=0.1, gamma=0.0001, kernel=rbf, score=0.200, total=   0.0s\n",
            "[CV] C=0.1, gamma=0.0001, kernel=rbf .................................\n",
            "[CV] ..... C=0.1, gamma=0.0001, kernel=rbf, score=0.200, total=   0.0s\n",
            "[CV] C=0.1, gamma=0.0001, kernel=rbf .................................\n",
            "[CV] ..... C=0.1, gamma=0.0001, kernel=rbf, score=0.200, total=   0.0s\n",
            "[CV] C=1, gamma=1, kernel=rbf ........................................\n",
            "[CV] ............ C=1, gamma=1, kernel=rbf, score=0.167, total=   0.0s\n",
            "[CV] C=1, gamma=1, kernel=rbf ........................................\n",
            "[CV] ............ C=1, gamma=1, kernel=rbf, score=0.400, total=   0.0s\n",
            "[CV] C=1, gamma=1, kernel=rbf ........................................\n",
            "[CV] ............ C=1, gamma=1, kernel=rbf, score=0.200, total=   0.0s\n",
            "[CV] C=1, gamma=1, kernel=rbf ........................................\n",
            "[CV] ............ C=1, gamma=1, kernel=rbf, score=0.200, total=   0.0s\n",
            "[CV] C=1, gamma=1, kernel=rbf ........................................\n",
            "[CV] ............ C=1, gamma=1, kernel=rbf, score=0.200, total=   0.0s\n",
            "[CV] C=1, gamma=0.1, kernel=rbf ......................................\n",
            "[CV] .......... C=1, gamma=0.1, kernel=rbf, score=0.000, total=   0.0s\n",
            "[CV] C=1, gamma=0.1, kernel=rbf ......................................\n",
            "[CV] .......... C=1, gamma=0.1, kernel=rbf, score=0.200, total=   0.0s\n",
            "[CV] C=1, gamma=0.1, kernel=rbf ......................................\n",
            "[CV] .......... C=1, gamma=0.1, kernel=rbf, score=0.200, total=   0.0s\n",
            "[CV] C=1, gamma=0.1, kernel=rbf ......................................\n",
            "[CV] .......... C=1, gamma=0.1, kernel=rbf, score=0.200, total=   0.0s\n",
            "[CV] C=1, gamma=0.1, kernel=rbf ......................................\n",
            "[CV] .......... C=1, gamma=0.1, kernel=rbf, score=0.200, total=   0.0s\n",
            "[CV] C=1, gamma=0.01, kernel=rbf .....................................\n",
            "[CV] ......... C=1, gamma=0.01, kernel=rbf, score=0.167, total=   0.0s\n",
            "[CV] C=1, gamma=0.01, kernel=rbf .....................................\n",
            "[CV] ......... C=1, gamma=0.01, kernel=rbf, score=0.400, total=   0.0s\n",
            "[CV] C=1, gamma=0.01, kernel=rbf .....................................\n",
            "[CV] ......... C=1, gamma=0.01, kernel=rbf, score=0.200, total=   0.0s\n",
            "[CV] C=1, gamma=0.01, kernel=rbf .....................................\n",
            "[CV] ......... C=1, gamma=0.01, kernel=rbf, score=0.200, total=   0.0s\n",
            "[CV] C=1, gamma=0.01, kernel=rbf .....................................\n",
            "[CV] ......... C=1, gamma=0.01, kernel=rbf, score=0.200, total=   0.0s\n",
            "[CV] C=1, gamma=0.001, kernel=rbf ....................................\n",
            "[CV] ........ C=1, gamma=0.001, kernel=rbf, score=0.167, total=   0.0s\n",
            "[CV] C=1, gamma=0.001, kernel=rbf ....................................\n",
            "[CV] ........ C=1, gamma=0.001, kernel=rbf, score=0.400, total=   0.0s\n",
            "[CV] C=1, gamma=0.001, kernel=rbf ....................................\n",
            "[CV] ........ C=1, gamma=0.001, kernel=rbf, score=0.200, total=   0.0s\n",
            "[CV] C=1, gamma=0.001, kernel=rbf ....................................\n",
            "[CV] ........ C=1, gamma=0.001, kernel=rbf, score=0.200, total=   0.0s\n",
            "[CV] C=1, gamma=0.001, kernel=rbf ....................................\n",
            "[CV] ........ C=1, gamma=0.001, kernel=rbf, score=0.200, total=   0.0s\n",
            "[CV] C=1, gamma=0.0001, kernel=rbf ...................................\n",
            "[CV] ....... C=1, gamma=0.0001, kernel=rbf, score=0.167, total=   0.0s\n",
            "[CV] C=1, gamma=0.0001, kernel=rbf ...................................\n",
            "[CV] ....... C=1, gamma=0.0001, kernel=rbf, score=0.400, total=   0.0s\n",
            "[CV] C=1, gamma=0.0001, kernel=rbf ...................................\n",
            "[CV] ....... C=1, gamma=0.0001, kernel=rbf, score=0.200, total=   0.0s\n",
            "[CV] C=1, gamma=0.0001, kernel=rbf ...................................\n",
            "[CV] ....... C=1, gamma=0.0001, kernel=rbf, score=0.200, total=   0.0s\n",
            "[CV] C=1, gamma=0.0001, kernel=rbf ...................................\n",
            "[CV] ....... C=1, gamma=0.0001, kernel=rbf, score=0.200, total=   0.0s\n",
            "[CV] C=10, gamma=1, kernel=rbf .......................................\n",
            "[CV] ........... C=10, gamma=1, kernel=rbf, score=0.167, total=   0.0s\n",
            "[CV] C=10, gamma=1, kernel=rbf .......................................\n",
            "[CV] ........... C=10, gamma=1, kernel=rbf, score=0.400, total=   0.0s\n",
            "[CV] C=10, gamma=1, kernel=rbf .......................................\n",
            "[CV] ........... C=10, gamma=1, kernel=rbf, score=0.200, total=   0.0s\n",
            "[CV] C=10, gamma=1, kernel=rbf .......................................\n",
            "[CV] ........... C=10, gamma=1, kernel=rbf, score=0.200, total=   0.0s\n",
            "[CV] C=10, gamma=1, kernel=rbf .......................................\n",
            "[CV] ........... C=10, gamma=1, kernel=rbf, score=0.200, total=   0.0s\n",
            "[CV] C=10, gamma=0.1, kernel=rbf .....................................\n",
            "[CV] ......... C=10, gamma=0.1, kernel=rbf, score=0.333, total=   0.0s\n",
            "[CV] C=10, gamma=0.1, kernel=rbf .....................................\n",
            "[CV] ......... C=10, gamma=0.1, kernel=rbf, score=0.200, total=   0.0s\n",
            "[CV] C=10, gamma=0.1, kernel=rbf .....................................\n",
            "[CV] ......... C=10, gamma=0.1, kernel=rbf, score=0.600, total=   0.0s\n",
            "[CV] C=10, gamma=0.1, kernel=rbf .....................................\n",
            "[CV] ......... C=10, gamma=0.1, kernel=rbf, score=0.200, total=   0.0s\n",
            "[CV] C=10, gamma=0.1, kernel=rbf .....................................\n",
            "[CV] ......... C=10, gamma=0.1, kernel=rbf, score=0.600, total=   0.0s\n",
            "[CV] C=10, gamma=0.01, kernel=rbf ....................................\n",
            "[CV] ........ C=10, gamma=0.01, kernel=rbf, score=0.333, total=   0.0s\n",
            "[CV] C=10, gamma=0.01, kernel=rbf ....................................\n",
            "[CV] ........ C=10, gamma=0.01, kernel=rbf, score=0.400, total=   0.0s\n",
            "[CV] C=10, gamma=0.01, kernel=rbf ....................................\n",
            "[CV] ........ C=10, gamma=0.01, kernel=rbf, score=0.200, total=   0.0s\n",
            "[CV] C=10, gamma=0.01, kernel=rbf ....................................\n",
            "[CV] ........ C=10, gamma=0.01, kernel=rbf, score=0.200, total=   0.0s\n",
            "[CV] C=10, gamma=0.01, kernel=rbf ....................................\n",
            "[CV] ........ C=10, gamma=0.01, kernel=rbf, score=0.400, total=   0.0s\n",
            "[CV] C=10, gamma=0.001, kernel=rbf ...................................\n",
            "[CV] ....... C=10, gamma=0.001, kernel=rbf, score=0.167, total=   0.0s\n",
            "[CV] C=10, gamma=0.001, kernel=rbf ...................................\n",
            "[CV] ....... C=10, gamma=0.001, kernel=rbf, score=0.400, total=   0.0s\n",
            "[CV] C=10, gamma=0.001, kernel=rbf ...................................\n",
            "[CV] ....... C=10, gamma=0.001, kernel=rbf, score=0.200, total=   0.0s\n",
            "[CV] C=10, gamma=0.001, kernel=rbf ...................................\n",
            "[CV] ....... C=10, gamma=0.001, kernel=rbf, score=0.200, total=   0.0s\n",
            "[CV] C=10, gamma=0.001, kernel=rbf ...................................\n",
            "[CV] ....... C=10, gamma=0.001, kernel=rbf, score=0.200, total=   0.0s\n",
            "[CV] C=10, gamma=0.0001, kernel=rbf ..................................\n",
            "[CV] ...... C=10, gamma=0.0001, kernel=rbf, score=0.167, total=   0.0s\n",
            "[CV] C=10, gamma=0.0001, kernel=rbf ..................................\n",
            "[CV] ...... C=10, gamma=0.0001, kernel=rbf, score=0.400, total=   0.0s\n",
            "[CV] C=10, gamma=0.0001, kernel=rbf ..................................\n",
            "[CV] ...... C=10, gamma=0.0001, kernel=rbf, score=0.200, total=   0.0s\n",
            "[CV] C=10, gamma=0.0001, kernel=rbf ..................................\n",
            "[CV] ...... C=10, gamma=0.0001, kernel=rbf, score=0.200, total=   0.0s\n",
            "[CV] C=10, gamma=0.0001, kernel=rbf ..................................\n",
            "[CV] ...... C=10, gamma=0.0001, kernel=rbf, score=0.200, total=   0.0s\n",
            "[CV] C=100, gamma=1, kernel=rbf ......................................\n",
            "[CV] .......... C=100, gamma=1, kernel=rbf, score=0.167, total=   0.0s\n",
            "[CV] C=100, gamma=1, kernel=rbf ......................................\n",
            "[CV] .......... C=100, gamma=1, kernel=rbf, score=0.400, total=   0.0s\n",
            "[CV] C=100, gamma=1, kernel=rbf ......................................\n",
            "[CV] .......... C=100, gamma=1, kernel=rbf, score=0.200, total=   0.0s\n",
            "[CV] C=100, gamma=1, kernel=rbf ......................................\n",
            "[CV] .......... C=100, gamma=1, kernel=rbf, score=0.200, total=   0.0s\n",
            "[CV] C=100, gamma=1, kernel=rbf ......................................\n",
            "[CV] .......... C=100, gamma=1, kernel=rbf, score=0.200, total=   0.0s\n",
            "[CV] C=100, gamma=0.1, kernel=rbf ....................................\n",
            "[CV] ........ C=100, gamma=0.1, kernel=rbf, score=0.333, total=   0.0s\n",
            "[CV] C=100, gamma=0.1, kernel=rbf ....................................\n",
            "[CV] ........ C=100, gamma=0.1, kernel=rbf, score=0.200, total=   0.0s\n",
            "[CV] C=100, gamma=0.1, kernel=rbf ....................................\n",
            "[CV] ........ C=100, gamma=0.1, kernel=rbf, score=0.600, total=   0.0s\n",
            "[CV] C=100, gamma=0.1, kernel=rbf ....................................\n",
            "[CV] ........ C=100, gamma=0.1, kernel=rbf, score=0.200, total=   0.0s\n",
            "[CV] C=100, gamma=0.1, kernel=rbf ....................................\n",
            "[CV] ........ C=100, gamma=0.1, kernel=rbf, score=0.600, total=   0.0s\n",
            "[CV] C=100, gamma=0.01, kernel=rbf ...................................\n",
            "[CV] ....... C=100, gamma=0.01, kernel=rbf, score=0.333, total=   0.0s\n",
            "[CV] C=100, gamma=0.01, kernel=rbf ...................................\n",
            "[CV] ....... C=100, gamma=0.01, kernel=rbf, score=0.200, total=   0.0s\n",
            "[CV] C=100, gamma=0.01, kernel=rbf ...................................\n",
            "[CV] ....... C=100, gamma=0.01, kernel=rbf, score=0.600, total=   0.0s\n",
            "[CV] C=100, gamma=0.01, kernel=rbf ...................................\n",
            "[CV] ....... C=100, gamma=0.01, kernel=rbf, score=0.200, total=   0.0s\n",
            "[CV] C=100, gamma=0.01, kernel=rbf ...................................\n",
            "[CV] ....... C=100, gamma=0.01, kernel=rbf, score=0.600, total=   0.0s\n",
            "[CV] C=100, gamma=0.001, kernel=rbf ..................................\n",
            "[CV] ...... C=100, gamma=0.001, kernel=rbf, score=0.333, total=   0.0s\n",
            "[CV] C=100, gamma=0.001, kernel=rbf ..................................\n",
            "[CV] ...... C=100, gamma=0.001, kernel=rbf, score=0.400, total=   0.0s\n",
            "[CV] C=100, gamma=0.001, kernel=rbf ..................................\n",
            "[CV] ...... C=100, gamma=0.001, kernel=rbf, score=0.400, total=   0.0s\n",
            "[CV] C=100, gamma=0.001, kernel=rbf ..................................\n",
            "[CV] ...... C=100, gamma=0.001, kernel=rbf, score=0.200, total=   0.0s\n",
            "[CV] C=100, gamma=0.001, kernel=rbf ..................................\n",
            "[CV] ...... C=100, gamma=0.001, kernel=rbf, score=0.400, total=   0.0s\n",
            "[CV] C=100, gamma=0.0001, kernel=rbf .................................\n",
            "[CV] ..... C=100, gamma=0.0001, kernel=rbf, score=0.167, total=   0.0s\n",
            "[CV] C=100, gamma=0.0001, kernel=rbf .................................\n",
            "[CV] ..... C=100, gamma=0.0001, kernel=rbf, score=0.400, total=   0.0s\n",
            "[CV] C=100, gamma=0.0001, kernel=rbf .................................\n",
            "[CV] ..... C=100, gamma=0.0001, kernel=rbf, score=0.200, total=   0.0s\n",
            "[CV] C=100, gamma=0.0001, kernel=rbf .................................\n",
            "[CV] ..... C=100, gamma=0.0001, kernel=rbf, score=0.200, total=   0.0s\n",
            "[CV] C=100, gamma=0.0001, kernel=rbf .................................\n",
            "[CV] ..... C=100, gamma=0.0001, kernel=rbf, score=0.200, total=   0.0s\n",
            "[CV] C=1000, gamma=1, kernel=rbf .....................................\n",
            "[CV] ......... C=1000, gamma=1, kernel=rbf, score=0.167, total=   0.0s\n",
            "[CV] C=1000, gamma=1, kernel=rbf .....................................\n"
          ],
          "name": "stdout"
        },
        {
          "output_type": "stream",
          "text": [
            "/usr/local/lib/python3.6/dist-packages/sklearn/model_selection/_split.py:667: UserWarning: The least populated class in y has only 1 members, which is less than n_splits=5.\n",
            "  % (min_groups, self.n_splits)), UserWarning)\n",
            "[Parallel(n_jobs=1)]: Using backend SequentialBackend with 1 concurrent workers.\n",
            "[Parallel(n_jobs=1)]: Done   1 out of   1 | elapsed:    0.0s remaining:    0.0s\n",
            "[Parallel(n_jobs=1)]: Done   2 out of   2 | elapsed:    0.0s remaining:    0.0s\n"
          ],
          "name": "stderr"
        },
        {
          "output_type": "stream",
          "text": [
            "[CV] ......... C=1000, gamma=1, kernel=rbf, score=0.400, total=   0.0s\n",
            "[CV] C=1000, gamma=1, kernel=rbf .....................................\n",
            "[CV] ......... C=1000, gamma=1, kernel=rbf, score=0.200, total=   0.0s\n",
            "[CV] C=1000, gamma=1, kernel=rbf .....................................\n",
            "[CV] ......... C=1000, gamma=1, kernel=rbf, score=0.200, total=   0.0s\n",
            "[CV] C=1000, gamma=1, kernel=rbf .....................................\n",
            "[CV] ......... C=1000, gamma=1, kernel=rbf, score=0.200, total=   0.0s\n",
            "[CV] C=1000, gamma=0.1, kernel=rbf ...................................\n",
            "[CV] ....... C=1000, gamma=0.1, kernel=rbf, score=0.333, total=   0.0s\n",
            "[CV] C=1000, gamma=0.1, kernel=rbf ...................................\n",
            "[CV] ....... C=1000, gamma=0.1, kernel=rbf, score=0.200, total=   0.0s\n",
            "[CV] C=1000, gamma=0.1, kernel=rbf ...................................\n",
            "[CV] ....... C=1000, gamma=0.1, kernel=rbf, score=0.600, total=   0.0s\n",
            "[CV] C=1000, gamma=0.1, kernel=rbf ...................................\n",
            "[CV] ....... C=1000, gamma=0.1, kernel=rbf, score=0.200, total=   0.0s\n",
            "[CV] C=1000, gamma=0.1, kernel=rbf ...................................\n",
            "[CV] ....... C=1000, gamma=0.1, kernel=rbf, score=0.600, total=   0.0s\n",
            "[CV] C=1000, gamma=0.01, kernel=rbf ..................................\n",
            "[CV] ...... C=1000, gamma=0.01, kernel=rbf, score=0.333, total=   0.0s\n",
            "[CV] C=1000, gamma=0.01, kernel=rbf ..................................\n",
            "[CV] ...... C=1000, gamma=0.01, kernel=rbf, score=0.200, total=   0.0s\n",
            "[CV] C=1000, gamma=0.01, kernel=rbf ..................................\n",
            "[CV] ...... C=1000, gamma=0.01, kernel=rbf, score=0.600, total=   0.0s\n",
            "[CV] C=1000, gamma=0.01, kernel=rbf ..................................\n",
            "[CV] ...... C=1000, gamma=0.01, kernel=rbf, score=0.200, total=   0.0s\n",
            "[CV] C=1000, gamma=0.01, kernel=rbf ..................................\n",
            "[CV] ...... C=1000, gamma=0.01, kernel=rbf, score=0.600, total=   0.0s\n",
            "[CV] C=1000, gamma=0.001, kernel=rbf .................................\n",
            "[CV] ..... C=1000, gamma=0.001, kernel=rbf, score=0.333, total=   0.0s\n",
            "[CV] C=1000, gamma=0.001, kernel=rbf .................................\n",
            "[CV] ..... C=1000, gamma=0.001, kernel=rbf, score=0.200, total=   0.0s\n",
            "[CV] C=1000, gamma=0.001, kernel=rbf .................................\n",
            "[CV] ..... C=1000, gamma=0.001, kernel=rbf, score=0.400, total=   0.0s\n",
            "[CV] C=1000, gamma=0.001, kernel=rbf .................................\n",
            "[CV] ..... C=1000, gamma=0.001, kernel=rbf, score=0.200, total=   0.0s\n",
            "[CV] C=1000, gamma=0.001, kernel=rbf .................................\n",
            "[CV] ..... C=1000, gamma=0.001, kernel=rbf, score=0.600, total=   0.0s\n",
            "[CV] C=1000, gamma=0.0001, kernel=rbf ................................\n",
            "[CV] .... C=1000, gamma=0.0001, kernel=rbf, score=0.333, total=   0.0s\n",
            "[CV] C=1000, gamma=0.0001, kernel=rbf ................................\n",
            "[CV] .... C=1000, gamma=0.0001, kernel=rbf, score=0.400, total=   0.0s\n",
            "[CV] C=1000, gamma=0.0001, kernel=rbf ................................\n",
            "[CV] .... C=1000, gamma=0.0001, kernel=rbf, score=0.400, total=   0.0s\n",
            "[CV] C=1000, gamma=0.0001, kernel=rbf ................................\n",
            "[CV] .... C=1000, gamma=0.0001, kernel=rbf, score=0.200, total=   0.0s\n",
            "[CV] C=1000, gamma=0.0001, kernel=rbf ................................\n",
            "[CV] .... C=1000, gamma=0.0001, kernel=rbf, score=0.400, total=   0.0s\n"
          ],
          "name": "stdout"
        },
        {
          "output_type": "stream",
          "text": [
            "[Parallel(n_jobs=1)]: Done 125 out of 125 | elapsed:    0.2s finished\n"
          ],
          "name": "stderr"
        },
        {
          "output_type": "execute_result",
          "data": {
            "text/plain": [
              "(SVC(C=10, break_ties=False, cache_size=200, class_weight=None, coef0=0.0,\n",
              "     decision_function_shape='ovr', degree=3, gamma=0.1, kernel='rbf',\n",
              "     max_iter=-1, probability=False, random_state=None, shrinking=True,\n",
              "     tol=0.001, verbose=False), 0.3866666666666666)"
            ]
          },
          "metadata": {
            "tags": []
          },
          "execution_count": 21
        }
      ]
    },
    {
      "cell_type": "code",
      "metadata": {
        "colab": {
          "base_uri": "https://localhost:8080/",
          "height": 241
        },
        "id": "mYx2CCdtDO03",
        "outputId": "87296fcb-8388-4238-c543-32f046fb1d10"
      },
      "source": [
        "from sklearn.ensemble import RandomForestClassifier\n",
        "parameters = {'max_features':[4,7,8,10],'min_samples_leaf':[1,3,5,8],'max_depth':[3,5,8]}\n",
        "rfc = RandomForestClassifier(n_estimators=100,random_state=42,n_jobs=-1,oob_score=True)\n",
        "forest_grid = GridSearchCV(rfc,parameters,n_jobs=-1,cv=skf,verbose=1)\n",
        "forest_grid.fit(X_train_last,y_train)\n",
        "forest_grid.best_estimator_ , forest_grid.best_score_"
      ],
      "execution_count": null,
      "outputs": [
        {
          "output_type": "stream",
          "text": [
            "Fitting 2 folds for each of 48 candidates, totalling 96 fits\n"
          ],
          "name": "stdout"
        },
        {
          "output_type": "stream",
          "text": [
            "/usr/local/lib/python3.6/dist-packages/sklearn/model_selection/_split.py:605: Warning: The least populated class in y has only 1 members, which is too few. The minimum number of members in any class cannot be less than n_splits=2.\n",
            "  % (min_groups, self.n_splits)), Warning)\n",
            "[Parallel(n_jobs=-1)]: Done  46 tasks      | elapsed:   11.0s\n",
            "[Parallel(n_jobs=-1)]: Done  96 out of  96 | elapsed:   22.7s finished\n"
          ],
          "name": "stderr"
        },
        {
          "output_type": "execute_result",
          "data": {
            "text/plain": [
              "(RandomForestClassifier(bootstrap=True, class_weight=None, criterion='gini',\n",
              "             max_depth=8, max_features=10, max_leaf_nodes=None,\n",
              "             min_impurity_decrease=0.0, min_impurity_split=None,\n",
              "             min_samples_leaf=1, min_samples_split=2,\n",
              "             min_weight_fraction_leaf=0.0, n_estimators=100, n_jobs=-1,\n",
              "             oob_score=True, random_state=42, verbose=0, warm_start=False),\n",
              " 0.375)"
            ]
          },
          "metadata": {
            "tags": []
          },
          "execution_count": 18
        }
      ]
    },
    {
      "cell_type": "code",
      "metadata": {
        "colab": {
          "base_uri": "https://localhost:8080/",
          "height": 207
        },
        "id": "aQChN_fzLon5",
        "outputId": "c6829f66-ce7b-4844-a493-db3d46fb5db9"
      },
      "source": [
        "from sklearn.tree import DecisionTreeClassifier\n",
        "\n",
        "tree= DecisionTreeClassifier()\n",
        "\n",
        "tree_params = {'max_depth':range(1,11),'max_features':range(4,19)}\n",
        "tree_grid = GridSearchCV(tree,tree_params,cv=skf,n_jobs=-1,verbose=True)\n",
        "tree_grid.fit(X_train_last,y_train)\n",
        "tree_grid.best_estimator_ , tree_grid.best_score_"
      ],
      "execution_count": null,
      "outputs": [
        {
          "output_type": "stream",
          "text": [
            "Fitting 2 folds for each of 150 candidates, totalling 300 fits\n"
          ],
          "name": "stdout"
        },
        {
          "output_type": "stream",
          "text": [
            "/usr/local/lib/python3.6/dist-packages/sklearn/model_selection/_split.py:605: Warning: The least populated class in y has only 1 members, which is too few. The minimum number of members in any class cannot be less than n_splits=2.\n",
            "  % (min_groups, self.n_splits)), Warning)\n",
            "[Parallel(n_jobs=-1)]: Done 300 out of 300 | elapsed:    0.7s finished\n"
          ],
          "name": "stderr"
        },
        {
          "output_type": "execute_result",
          "data": {
            "text/plain": [
              "(DecisionTreeClassifier(class_weight=None, criterion='gini', max_depth=7,\n",
              "             max_features=17, max_leaf_nodes=None,\n",
              "             min_impurity_decrease=0.0, min_impurity_split=None,\n",
              "             min_samples_leaf=1, min_samples_split=2,\n",
              "             min_weight_fraction_leaf=0.0, presort=False, random_state=None,\n",
              "             splitter='best'), 0.4583333333333333)"
            ]
          },
          "metadata": {
            "tags": []
          },
          "execution_count": 19
        }
      ]
    },
    {
      "cell_type": "code",
      "metadata": {
        "colab": {
          "base_uri": "https://localhost:8080/",
          "height": 119
        },
        "id": "G72vFULDMobr",
        "outputId": "8f20e1fe-3149-4f43-9601-51ca19538027"
      },
      "source": [
        "rec_tracks=[]\n",
        "\n",
        "for i in playlist_df['id'].values.tolist():\n",
        "  rec_tracks += sp.recommendations(seed_tracks=[i],limit = int(len(playlist_df)/2))['tracks'];\n",
        "  \n",
        "\n",
        "rec_track_ids=[]\n",
        "rec_track_names = []\n",
        "for i in rec_tracks:\n",
        "  rec_track_ids.append(i['id'])\n",
        "  rec_track_names.append(i['name'])\n",
        "  \n",
        "\n",
        "rec_features=[]\n",
        "\n",
        "for i in range(0,len(rec_track_ids)):\n",
        "  rec_audio_features = sp.audio_features(rec_track_ids[i])\n",
        "  for track in rec_audio_features:\n",
        "    rec_features.append(track)\n",
        "    \n",
        "    \n",
        "rec_playlist_df= pd.DataFrame(rec_features,index = rec_track_ids)"
      ],
      "execution_count": null,
      "outputs": [
        {
          "output_type": "stream",
          "text": [
            "retrying ...1secs\n",
            "retrying ...1secs\n",
            "retrying ...7secs\n",
            "retrying ...1secs\n",
            "retrying ...7secs\n",
            "retrying ...1secs\n"
          ],
          "name": "stdout"
        }
      ]
    },
    {
      "cell_type": "code",
      "metadata": {
        "id": "nb6EFMlUTuZ1"
      },
      "source": [
        "rec_playlist_df = rec_playlist_df[[\"acousticness\", \"danceability\", \"duration_ms\", \"energy\", \"instrumentalness\",  \"key\", \"liveness\", \"loudness\", \"mode\", \"speechiness\", \"tempo\", \"valence\"]]"
      ],
      "execution_count": null,
      "outputs": []
    },
    {
      "cell_type": "code",
      "metadata": {
        "id": "fsL5Vw46UVT0"
      },
      "source": [
        "tree_grid.best_estimator_.fit(X_train_last,y_train)\n",
        "rec_playlist_df_scaled = StandardScaler().fit_transform(rec_playlist_df)\n",
        "X_test_pca  = pca.transform(rec_playlist_df_scaled)\n",
        "X_test_names = v.transform(rec_track_names)\n",
        "X_test_last = csr_matrix(hstack([X_test_pca,X_test_names]))\n",
        "y_pred_class = tree_grid.best_estimator_.predict(X_test_last)"
      ],
      "execution_count": null,
      "outputs": []
    },
    {
      "cell_type": "code",
      "metadata": {
        "id": "N4TAkd8WWPUa"
      },
      "source": [
        "rec_playlist_df['ratings']=y_pred_class\n",
        "rec_playlist_df = rec_playlist_df.sort_values('ratings',ascending=False)\n",
        "rec_playlist_df = rec_playlist_df.reset_index()\n",
        "\n",
        "recs_to_add = rec_playlist_df[rec_playlist_df['ratings']>=9]['index'].values.tolist()"
      ],
      "execution_count": null,
      "outputs": []
    },
    {
      "cell_type": "code",
      "metadata": {
        "id": "LaUCBoe8XOS_"
      },
      "source": [
        "playlist_recs =sp.user_playlist_create(username,name='PCA + tf-idf + DT - Recommended Songs for Playlist - {}'.format(sourcePlaylist['name']))"
      ],
      "execution_count": null,
      "outputs": []
    },
    {
      "cell_type": "code",
      "metadata": {
        "colab": {
          "base_uri": "https://localhost:8080/",
          "height": 459
        },
        "id": "eauEBKtPdiJw",
        "outputId": "be5c6081-501b-4121-e1ae-073cc129e772"
      },
      "source": [
        "playlist_recs"
      ],
      "execution_count": null,
      "outputs": [
        {
          "output_type": "execute_result",
          "data": {
            "text/plain": [
              "{'collaborative': False,\n",
              " 'description': None,\n",
              " 'external_urls': {'spotify': 'https://open.spotify.com/playlist/4D8p3hVYwgngTmf1FHol0Y'},\n",
              " 'followers': {'href': None, 'total': 0},\n",
              " 'href': 'https://api.spotify.com/v1/playlists/4D8p3hVYwgngTmf1FHol0Y',\n",
              " 'id': '4D8p3hVYwgngTmf1FHol0Y',\n",
              " 'images': [],\n",
              " 'name': 'PCA + tf-idf + DT - Recommended Songs for Playlist - bantai',\n",
              " 'owner': {'display_name': 'francocasadei',\n",
              "  'external_urls': {'spotify': 'https://open.spotify.com/user/francocasadei'},\n",
              "  'href': 'https://api.spotify.com/v1/users/francocasadei',\n",
              "  'id': 'francocasadei',\n",
              "  'type': 'user',\n",
              "  'uri': 'spotify:user:francocasadei'},\n",
              " 'primary_color': None,\n",
              " 'public': True,\n",
              " 'snapshot_id': 'MSxlNTJiYzUxNmUyNTU4ODMyYThkYjMwMWVmMjVjODg5OTYyMWE1N2Qz',\n",
              " 'tracks': {'href': 'https://api.spotify.com/v1/playlists/4D8p3hVYwgngTmf1FHol0Y/tracks',\n",
              "  'items': [],\n",
              "  'limit': 100,\n",
              "  'next': None,\n",
              "  'offset': 0,\n",
              "  'previous': None,\n",
              "  'total': 0},\n",
              " 'type': 'playlist',\n",
              " 'uri': 'spotify:user:francocasadei:playlist:4D8p3hVYwgngTmf1FHol0Y'}"
            ]
          },
          "metadata": {
            "tags": []
          },
          "execution_count": 25
        }
      ]
    },
    {
      "cell_type": "code",
      "metadata": {
        "id": "Pjp8b-vWXibE"
      },
      "source": [
        "sp.user_playlist_add_tracks(username,playlist_recs['id'],recs_to_add);"
      ],
      "execution_count": null,
      "outputs": []
    },
    {
      "cell_type": "code",
      "metadata": {
        "id": "07ieGpc5ZTai"
      },
      "source": [
        ""
      ],
      "execution_count": null,
      "outputs": []
    }
  ]
}